{
  "cells": [
    {
      "cell_type": "markdown",
      "metadata": {
        "id": "view-in-github",
        "colab_type": "text"
      },
      "source": [
        "<a href=\"https://colab.research.google.com/github/jumli-gazali/tess/blob/main/Chatbot_%2B_Flask%201.ipynb\" target=\"_parent\"><img src=\"https://colab.research.google.com/assets/colab-badge.svg\" alt=\"Open In Colab\"/></a>"
      ]
    },
    {
      "cell_type": "code",
      "execution_count": 1,
      "metadata": {
        "colab": {
          "base_uri": "https://localhost:8080/"
        },
        "id": "8Q4AyAluCCrm",
        "outputId": "392a5385-d4d5-498e-e4d2-0f8a83075f38"
      },
      "outputs": [
        {
          "output_type": "stream",
          "name": "stdout",
          "text": [
            "Looking in indexes: https://pypi.org/simple, https://us-python.pkg.dev/colab-wheels/public/simple/\n",
            "Requirement already satisfied: tensorflow in /usr/local/lib/python3.7/dist-packages (2.9.2)\n",
            "Requirement already satisfied: six>=1.12.0 in /usr/local/lib/python3.7/dist-packages (from tensorflow) (1.15.0)\n",
            "Requirement already satisfied: google-pasta>=0.1.1 in /usr/local/lib/python3.7/dist-packages (from tensorflow) (0.2.0)\n",
            "Requirement already satisfied: h5py>=2.9.0 in /usr/local/lib/python3.7/dist-packages (from tensorflow) (3.1.0)\n",
            "Requirement already satisfied: tensorflow-io-gcs-filesystem>=0.23.1 in /usr/local/lib/python3.7/dist-packages (from tensorflow) (0.27.0)\n",
            "Requirement already satisfied: termcolor>=1.1.0 in /usr/local/lib/python3.7/dist-packages (from tensorflow) (2.1.0)\n",
            "Requirement already satisfied: tensorflow-estimator<2.10.0,>=2.9.0rc0 in /usr/local/lib/python3.7/dist-packages (from tensorflow) (2.9.0)\n",
            "Requirement already satisfied: tensorboard<2.10,>=2.9 in /usr/local/lib/python3.7/dist-packages (from tensorflow) (2.9.1)\n",
            "Requirement already satisfied: packaging in /usr/local/lib/python3.7/dist-packages (from tensorflow) (21.3)\n",
            "Requirement already satisfied: opt-einsum>=2.3.2 in /usr/local/lib/python3.7/dist-packages (from tensorflow) (3.3.0)\n",
            "Requirement already satisfied: setuptools in /usr/local/lib/python3.7/dist-packages (from tensorflow) (57.4.0)\n",
            "Requirement already satisfied: flatbuffers<2,>=1.12 in /usr/local/lib/python3.7/dist-packages (from tensorflow) (1.12)\n",
            "Requirement already satisfied: gast<=0.4.0,>=0.2.1 in /usr/local/lib/python3.7/dist-packages (from tensorflow) (0.4.0)\n",
            "Requirement already satisfied: absl-py>=1.0.0 in /usr/local/lib/python3.7/dist-packages (from tensorflow) (1.3.0)\n",
            "Requirement already satisfied: wrapt>=1.11.0 in /usr/local/lib/python3.7/dist-packages (from tensorflow) (1.14.1)\n",
            "Requirement already satisfied: numpy>=1.20 in /usr/local/lib/python3.7/dist-packages (from tensorflow) (1.21.6)\n",
            "Requirement already satisfied: keras<2.10.0,>=2.9.0rc0 in /usr/local/lib/python3.7/dist-packages (from tensorflow) (2.9.0)\n",
            "Requirement already satisfied: keras-preprocessing>=1.1.1 in /usr/local/lib/python3.7/dist-packages (from tensorflow) (1.1.2)\n",
            "Requirement already satisfied: typing-extensions>=3.6.6 in /usr/local/lib/python3.7/dist-packages (from tensorflow) (4.1.1)\n",
            "Requirement already satisfied: libclang>=13.0.0 in /usr/local/lib/python3.7/dist-packages (from tensorflow) (14.0.6)\n",
            "Requirement already satisfied: astunparse>=1.6.0 in /usr/local/lib/python3.7/dist-packages (from tensorflow) (1.6.3)\n",
            "Requirement already satisfied: grpcio<2.0,>=1.24.3 in /usr/local/lib/python3.7/dist-packages (from tensorflow) (1.50.0)\n",
            "Requirement already satisfied: protobuf<3.20,>=3.9.2 in /usr/local/lib/python3.7/dist-packages (from tensorflow) (3.19.6)\n",
            "Requirement already satisfied: wheel<1.0,>=0.23.0 in /usr/local/lib/python3.7/dist-packages (from astunparse>=1.6.0->tensorflow) (0.38.4)\n",
            "Requirement already satisfied: cached-property in /usr/local/lib/python3.7/dist-packages (from h5py>=2.9.0->tensorflow) (1.5.2)\n",
            "Requirement already satisfied: tensorboard-data-server<0.7.0,>=0.6.0 in /usr/local/lib/python3.7/dist-packages (from tensorboard<2.10,>=2.9->tensorflow) (0.6.1)\n",
            "Requirement already satisfied: werkzeug>=1.0.1 in /usr/local/lib/python3.7/dist-packages (from tensorboard<2.10,>=2.9->tensorflow) (1.0.1)\n",
            "Requirement already satisfied: requests<3,>=2.21.0 in /usr/local/lib/python3.7/dist-packages (from tensorboard<2.10,>=2.9->tensorflow) (2.23.0)\n",
            "Requirement already satisfied: tensorboard-plugin-wit>=1.6.0 in /usr/local/lib/python3.7/dist-packages (from tensorboard<2.10,>=2.9->tensorflow) (1.8.1)\n",
            "Requirement already satisfied: google-auth-oauthlib<0.5,>=0.4.1 in /usr/local/lib/python3.7/dist-packages (from tensorboard<2.10,>=2.9->tensorflow) (0.4.6)\n",
            "Requirement already satisfied: google-auth<3,>=1.6.3 in /usr/local/lib/python3.7/dist-packages (from tensorboard<2.10,>=2.9->tensorflow) (2.14.1)\n",
            "Requirement already satisfied: markdown>=2.6.8 in /usr/local/lib/python3.7/dist-packages (from tensorboard<2.10,>=2.9->tensorflow) (3.4.1)\n",
            "Requirement already satisfied: cachetools<6.0,>=2.0.0 in /usr/local/lib/python3.7/dist-packages (from google-auth<3,>=1.6.3->tensorboard<2.10,>=2.9->tensorflow) (5.2.0)\n",
            "Requirement already satisfied: rsa<5,>=3.1.4 in /usr/local/lib/python3.7/dist-packages (from google-auth<3,>=1.6.3->tensorboard<2.10,>=2.9->tensorflow) (4.9)\n",
            "Requirement already satisfied: pyasn1-modules>=0.2.1 in /usr/local/lib/python3.7/dist-packages (from google-auth<3,>=1.6.3->tensorboard<2.10,>=2.9->tensorflow) (0.2.8)\n",
            "Requirement already satisfied: requests-oauthlib>=0.7.0 in /usr/local/lib/python3.7/dist-packages (from google-auth-oauthlib<0.5,>=0.4.1->tensorboard<2.10,>=2.9->tensorflow) (1.3.1)\n",
            "Requirement already satisfied: importlib-metadata>=4.4 in /usr/local/lib/python3.7/dist-packages (from markdown>=2.6.8->tensorboard<2.10,>=2.9->tensorflow) (4.13.0)\n",
            "Requirement already satisfied: zipp>=0.5 in /usr/local/lib/python3.7/dist-packages (from importlib-metadata>=4.4->markdown>=2.6.8->tensorboard<2.10,>=2.9->tensorflow) (3.10.0)\n",
            "Requirement already satisfied: pyasn1<0.5.0,>=0.4.6 in /usr/local/lib/python3.7/dist-packages (from pyasn1-modules>=0.2.1->google-auth<3,>=1.6.3->tensorboard<2.10,>=2.9->tensorflow) (0.4.8)\n",
            "Requirement already satisfied: certifi>=2017.4.17 in /usr/local/lib/python3.7/dist-packages (from requests<3,>=2.21.0->tensorboard<2.10,>=2.9->tensorflow) (2022.9.24)\n",
            "Requirement already satisfied: chardet<4,>=3.0.2 in /usr/local/lib/python3.7/dist-packages (from requests<3,>=2.21.0->tensorboard<2.10,>=2.9->tensorflow) (3.0.4)\n",
            "Requirement already satisfied: urllib3!=1.25.0,!=1.25.1,<1.26,>=1.21.1 in /usr/local/lib/python3.7/dist-packages (from requests<3,>=2.21.0->tensorboard<2.10,>=2.9->tensorflow) (1.24.3)\n",
            "Requirement already satisfied: idna<3,>=2.5 in /usr/local/lib/python3.7/dist-packages (from requests<3,>=2.21.0->tensorboard<2.10,>=2.9->tensorflow) (2.10)\n",
            "Requirement already satisfied: oauthlib>=3.0.0 in /usr/local/lib/python3.7/dist-packages (from requests-oauthlib>=0.7.0->google-auth-oauthlib<0.5,>=0.4.1->tensorboard<2.10,>=2.9->tensorflow) (3.2.2)\n",
            "Requirement already satisfied: pyparsing!=3.0.5,>=2.0.2 in /usr/local/lib/python3.7/dist-packages (from packaging->tensorflow) (3.0.9)\n",
            "Looking in indexes: https://pypi.org/simple, https://us-python.pkg.dev/colab-wheels/public/simple/\n",
            "Collecting pyngrok\n",
            "  Downloading pyngrok-5.1.0.tar.gz (745 kB)\n",
            "\u001b[K     |████████████████████████████████| 745 kB 5.1 MB/s \n",
            "\u001b[?25hRequirement already satisfied: PyYAML in /usr/local/lib/python3.7/dist-packages (from pyngrok) (6.0)\n",
            "Building wheels for collected packages: pyngrok\n",
            "  Building wheel for pyngrok (setup.py) ... \u001b[?25l\u001b[?25hdone\n",
            "  Created wheel for pyngrok: filename=pyngrok-5.1.0-py3-none-any.whl size=19006 sha256=1997a9b69e6c915c48e8ecbea19bb87e2934c319e7e37f32475ea4218571f32e\n",
            "  Stored in directory: /root/.cache/pip/wheels/bf/e6/af/ccf6598ecefecd44104069371795cb9b3afbcd16987f6ccfb3\n",
            "Successfully built pyngrok\n",
            "Installing collected packages: pyngrok\n",
            "Successfully installed pyngrok-5.1.0\n",
            "Looking in indexes: https://pypi.org/simple, https://us-python.pkg.dev/colab-wheels/public/simple/\n",
            "Collecting flask-ngrok\n",
            "  Downloading flask_ngrok-0.0.25-py3-none-any.whl (3.1 kB)\n",
            "Requirement already satisfied: Flask>=0.8 in /usr/local/lib/python3.7/dist-packages (from flask-ngrok) (1.1.4)\n",
            "Requirement already satisfied: requests in /usr/local/lib/python3.7/dist-packages (from flask-ngrok) (2.23.0)\n",
            "Requirement already satisfied: Jinja2<3.0,>=2.10.1 in /usr/local/lib/python3.7/dist-packages (from Flask>=0.8->flask-ngrok) (2.11.3)\n",
            "Requirement already satisfied: click<8.0,>=5.1 in /usr/local/lib/python3.7/dist-packages (from Flask>=0.8->flask-ngrok) (7.1.2)\n",
            "Requirement already satisfied: Werkzeug<2.0,>=0.15 in /usr/local/lib/python3.7/dist-packages (from Flask>=0.8->flask-ngrok) (1.0.1)\n",
            "Requirement already satisfied: itsdangerous<2.0,>=0.24 in /usr/local/lib/python3.7/dist-packages (from Flask>=0.8->flask-ngrok) (1.1.0)\n",
            "Requirement already satisfied: MarkupSafe>=0.23 in /usr/local/lib/python3.7/dist-packages (from Jinja2<3.0,>=2.10.1->Flask>=0.8->flask-ngrok) (2.0.1)\n",
            "Requirement already satisfied: certifi>=2017.4.17 in /usr/local/lib/python3.7/dist-packages (from requests->flask-ngrok) (2022.9.24)\n",
            "Requirement already satisfied: idna<3,>=2.5 in /usr/local/lib/python3.7/dist-packages (from requests->flask-ngrok) (2.10)\n",
            "Requirement already satisfied: urllib3!=1.25.0,!=1.25.1,<1.26,>=1.21.1 in /usr/local/lib/python3.7/dist-packages (from requests->flask-ngrok) (1.24.3)\n",
            "Requirement already satisfied: chardet<4,>=3.0.2 in /usr/local/lib/python3.7/dist-packages (from requests->flask-ngrok) (3.0.4)\n",
            "Installing collected packages: flask-ngrok\n",
            "Successfully installed flask-ngrok-0.0.25\n",
            "Looking in indexes: https://pypi.org/simple, https://us-python.pkg.dev/colab-wheels/public/simple/\n",
            "Collecting flask==0.12.2\n",
            "  Downloading Flask-0.12.2-py2.py3-none-any.whl (83 kB)\n",
            "\u001b[K     |████████████████████████████████| 83 kB 1.0 MB/s \n",
            "\u001b[?25hRequirement already satisfied: click>=2.0 in /usr/local/lib/python3.7/dist-packages (from flask==0.12.2) (7.1.2)\n",
            "Requirement already satisfied: Jinja2>=2.4 in /usr/local/lib/python3.7/dist-packages (from flask==0.12.2) (2.11.3)\n",
            "Requirement already satisfied: itsdangerous>=0.21 in /usr/local/lib/python3.7/dist-packages (from flask==0.12.2) (1.1.0)\n",
            "Requirement already satisfied: Werkzeug>=0.7 in /usr/local/lib/python3.7/dist-packages (from flask==0.12.2) (1.0.1)\n",
            "Requirement already satisfied: MarkupSafe>=0.23 in /usr/local/lib/python3.7/dist-packages (from Jinja2>=2.4->flask==0.12.2) (2.0.1)\n",
            "Installing collected packages: flask\n",
            "  Attempting uninstall: flask\n",
            "    Found existing installation: Flask 1.1.4\n",
            "    Uninstalling Flask-1.1.4:\n",
            "      Successfully uninstalled Flask-1.1.4\n",
            "Successfully installed flask-0.12.2\n",
            "Authtoken saved to configuration file: /root/.ngrok2/ngrok.yml\n"
          ]
        }
      ],
      "source": [
        "!pip install tensorflow\n",
        "!pip install pyngrok\n",
        "!pip install flask-ngrok\n",
        "!pip install flask==0.12.2\n",
        "!ngrok authtoken 2GGMlq9FE9APOnk15KXWKKSMzIH_2enTtSyY3yUpb4hGTg3hJ"
      ]
    },
    {
      "cell_type": "markdown",
      "metadata": {
        "id": "O6Q_V-rj03my"
      },
      "source": [
        "# mount to google drive"
      ]
    },
    {
      "cell_type": "code",
      "execution_count": 2,
      "metadata": {
        "colab": {
          "base_uri": "https://localhost:8080/"
        },
        "id": "BRbwnOG331EL",
        "outputId": "7a904016-e31a-4987-bf75-cb8ffa1201d4"
      },
      "outputs": [
        {
          "output_type": "stream",
          "name": "stdout",
          "text": [
            "Mounted at /content/drive\n"
          ]
        }
      ],
      "source": [
        "from google.colab import drive\n",
        "drive.mount('/content/drive')"
      ]
    },
    {
      "cell_type": "code",
      "execution_count": 3,
      "metadata": {
        "colab": {
          "base_uri": "https://localhost:8080/"
        },
        "id": "fs74G69G60La",
        "outputId": "cc001e31-8c8b-40d8-e11f-f5053ead83fe"
      },
      "outputs": [
        {
          "output_type": "stream",
          "name": "stdout",
          "text": [
            "/content\n"
          ]
        }
      ],
      "source": [
        "import os\n",
        "\n",
        "print(os.getcwd())"
      ]
    },
    {
      "cell_type": "code",
      "execution_count": 4,
      "metadata": {
        "colab": {
          "base_uri": "https://localhost:8080/"
        },
        "id": "Ch-troRi7uiZ",
        "outputId": "25388df9-1c53-49b5-94e1-92d242a1ed9e"
      },
      "outputs": [
        {
          "output_type": "stream",
          "name": "stdout",
          "text": [
            "/content/drive/MyDrive/Colab Notebooks/Chatbot\n"
          ]
        }
      ],
      "source": [
        "os.chdir('/content/drive/MyDrive/Colab Notebooks/Chatbot')\n",
        "print(os.getcwd())"
      ]
    },
    {
      "cell_type": "markdown",
      "metadata": {
        "id": "NzuqBy3aCFPY"
      },
      "source": [
        "# get a working flask chat bot running on  google colab"
      ]
    },
    {
      "cell_type": "markdown",
      "metadata": {
        "id": "ekMNePRyCSON"
      },
      "source": [
        "First need to wget the .json file. Make a copy of your own and edit it to make your own chatbot brain."
      ]
    },
    {
      "cell_type": "code",
      "execution_count": 5,
      "metadata": {
        "colab": {
          "base_uri": "https://localhost:8080/"
        },
        "id": "NF6uQQo9CWnt",
        "outputId": "ce4038f6-21f8-4156-f70e-cc1d53b78368"
      },
      "outputs": [
        {
          "output_type": "stream",
          "name": "stdout",
          "text": [
            "--2022-11-28 14:07:22--  https://raw.githubusercontent.com/jumli-gazali/ppl-chatbot/main/intents.json\n",
            "Resolving raw.githubusercontent.com (raw.githubusercontent.com)... 185.199.109.133, 185.199.111.133, 185.199.110.133, ...\n",
            "Connecting to raw.githubusercontent.com (raw.githubusercontent.com)|185.199.109.133|:443... connected.\n",
            "HTTP request sent, awaiting response... 200 OK\n",
            "Length: 17906 (17K) [text/plain]\n",
            "Saving to: ‘intents.json.7’\n",
            "\n",
            "\rintents.json.7        0%[                    ]       0  --.-KB/s               \rintents.json.7      100%[===================>]  17.49K  --.-KB/s    in 0.002s  \n",
            "\n",
            "2022-11-28 14:07:22 (8.27 MB/s) - ‘intents.json.7’ saved [17906/17906]\n",
            "\n"
          ]
        }
      ],
      "source": [
        "#!wget -p '/content/drive/MyDrive/Colab Notebooks/Chatbot/intents.json' https://raw.githubusercontent.com/jumli-gazali/ppl-chatbot/main/intents.json\n",
        "!wget https://raw.githubusercontent.com/jumli-gazali/ppl-chatbot/main/intents.json"
      ]
    },
    {
      "cell_type": "markdown",
      "metadata": {
        "id": "lxNz8fLsDb6U"
      },
      "source": [
        "Next we need to run the trainer. This will process the .json brain into something that the algorithm can use.\n"
      ]
    },
    {
      "cell_type": "code",
      "execution_count": 26,
      "metadata": {
        "colab": {
          "base_uri": "https://localhost:8080/"
        },
        "id": "--Qug454DaVx",
        "outputId": "b7d6adf1-5a3d-40a4-8af3-9386b8e92214"
      },
      "outputs": [
        {
          "output_type": "stream",
          "name": "stdout",
          "text": [
            "The tensorboard extension is already loaded. To reload it, use:\n",
            "  %reload_ext tensorboard\n",
            "228 documents\n",
            "43 classes ['Anggrek', 'B2 Seruni', 'BPJS', 'C2 Seruni, Melati', 'Cathlab', 'Daftar', 'Donor darah', 'Gedung A', 'ICCU', 'ICU', 'IGD', 'Inap Anak', 'Kamar operasi IGD', 'Kamboja', 'Kemuning', 'Laboraturium', 'Mawar', 'Patologi anatomi', 'Pembayaran', 'Persalinan', 'Poli Anak', 'Poli Bedah', 'Poli Bedah Saraf', 'Poli Bedah digestif', 'Poli Check Up', 'Poli Gizi', 'Poli Jantung', 'Poli Kulit ', 'Poli Mata', 'Poli Onkologi', 'Poli Orthopedi', 'Poli Saraf', 'Poli THT', 'Poli Urologi', 'Radiologi', 'Rekam Medik', 'Resep', 'Ruang Covid-19', 'Ruang Direktur', 'Ruang Observasi IGD', 'Teratai', 'Unknown', 'VIP C']\n",
            "183 unique lemmatized words ['a', 'ada', 'administrasi', 'alergi', 'anak', 'anak-anak', 'anatomi', 'anggrek', 'angiografi', 'apa', 'apakah', 'apotek', 'aritmia', 'asam', 'ayat', 'bab', 'bagian', 'bawaan', 'bedah', 'berapa', 'berdarah', 'berdengung', 'bokong', 'bpjs', 'c', 'c2', 'cathlab', 'cedera', 'cek', 'check', 'covid-19', 'ct-scan', 'daftar', 'dan', 'darah', 'darurat', 'di', 'dibayar', 'digestif', 'dimana', 'direktur', 'disebabkan', 'dokter', 'gangguan', 'gawat', 'gedung', 'gizi', 'golongan', 'gula', 'hasil', 'hematologi', 'hematuria', 'hidung', 'hingga', 'iccu', 'icu', 'igd', 'inap', 'infeksi', 'instalasi', 'jantung', 'kamar', 'kamboja', 'kantong', 'kardiomipati', 'katarak', 'katerisasi', 'ke', 'kecelakaan', 'kehilangan', 'kelamin', 'kemih', 'kemuning', 'kepala', 'keropos', 'keseimbangan', 'khusus', 'kifosis', 'klinik', 'kolesterol', 'konsultasi', 'kulit', 'lab', 'labor', 'laboratorium', 'lantai', 'layanan', 'letak', 'leukosit', 'lokasi', 'loket', 'lordosis', 'mana', 'mata', 'mau', 'mawar', 'mayat', 'medical', 'medik', 'melahirkan', 'membayar', 'memeriksa', 'mendaftar', 'mendonor', 'menelan', 'mengambil', 'mengambill', 'mengurus', 'minus', 'mri', 'nama', 'namanya', 'nyeri', 'obat', 'observasi', 'oleh', 'onkologi', 'operasi', 'orang', 'orthopedi', 'pa', 'pada', 'paru-paru', 'pasca', 'pasien', 'patologi', 'pembayaran', 'pembuluh', 'pemeriksaan', 'pendaftaran', 'pendengaran', 'pengambilan', 'penyakit', 'periksa', 'pernapasan', 'pertemuan', 'pinggang', 'pmi', 'poli', 'positif', 'pra', 'prostat', 'radiologi', 'rawat', 'rekam', 'rendah', 'resep', 'rontgen', 'ruang', 'ruangan', 'ruangannya', 'sakit', 'saluran', 'saraf', 'sendi', 'seruni', 'siapa', 'singusitis', 'skoliosis', 'spesialis', 'sulit', 'tbc', 'tekanan', 'telinga', 'telingan', 'tempat', 'tenggorokan', 'teratai', 'terjepit', 'tersumbat', 'tht', 'tidur', 'tinggi', 'trombosit', 'tulang', 'untuk', 'up', 'urat', 'urologi', 'usg', 'vertigo', 'vip', 'yang']\n",
            "Training data created\n",
            "Model: \"sequential_8\"\n",
            "_________________________________________________________________\n",
            " Layer (type)                Output Shape              Param #   \n",
            "=================================================================\n",
            " dense_24 (Dense)            (None, 128)               23552     \n",
            "                                                                 \n",
            " dropout_16 (Dropout)        (None, 128)               0         \n",
            "                                                                 \n",
            " dense_25 (Dense)            (None, 42)                5418      \n",
            "                                                                 \n",
            " dropout_17 (Dropout)        (None, 42)                0         \n",
            "                                                                 \n",
            " dense_26 (Dense)            (None, 43)                1849      \n",
            "                                                                 \n",
            "=================================================================\n",
            "Total params: 30,819\n",
            "Trainable params: 30,819\n",
            "Non-trainable params: 0\n",
            "_________________________________________________________________\n"
          ]
        },
        {
          "output_type": "stream",
          "name": "stderr",
          "text": [
            "[nltk_data] Downloading package omw-1.4 to /root/nltk_data...\n",
            "[nltk_data]   Package omw-1.4 is already up-to-date!\n",
            "[nltk_data] Downloading package punkt to /root/nltk_data...\n",
            "[nltk_data]   Package punkt is already up-to-date!\n",
            "[nltk_data] Downloading package wordnet to /root/nltk_data...\n",
            "[nltk_data]   Package wordnet is already up-to-date!\n",
            "/usr/local/lib/python3.7/dist-packages/ipykernel_launcher.py:87: VisibleDeprecationWarning: Creating an ndarray from ragged nested sequences (which is a list-or-tuple of lists-or-tuples-or ndarrays with different lengths or shapes) is deprecated. If you meant to do this, you must specify 'dtype=object' when creating the ndarray.\n",
            "/usr/local/lib/python3.7/dist-packages/keras/optimizers/optimizer_v2/gradient_descent.py:108: UserWarning: The `lr` argument is deprecated, use `learning_rate` instead.\n",
            "  super(SGD, self).__init__(name, **kwargs)\n"
          ]
        },
        {
          "output_type": "stream",
          "name": "stdout",
          "text": [
            "Epoch 1/200\n",
            "46/46 [==============================] - 1s 16ms/step - loss: 3.7540 - accuracy: 0.0175 - val_loss: 3.6527 - val_accuracy: 0.1140\n",
            "Epoch 2/200\n",
            "46/46 [==============================] - 0s 6ms/step - loss: 3.6600 - accuracy: 0.0482 - val_loss: 3.5257 - val_accuracy: 0.1228\n",
            "Epoch 3/200\n",
            "46/46 [==============================] - 0s 7ms/step - loss: 3.5341 - accuracy: 0.0921 - val_loss: 3.3961 - val_accuracy: 0.1316\n",
            "Epoch 4/200\n",
            "46/46 [==============================] - 0s 5ms/step - loss: 3.4599 - accuracy: 0.1140 - val_loss: 3.2672 - val_accuracy: 0.1711\n",
            "Epoch 5/200\n",
            "46/46 [==============================] - 0s 7ms/step - loss: 3.3637 - accuracy: 0.1623 - val_loss: 3.1332 - val_accuracy: 0.2412\n",
            "Epoch 6/200\n",
            "46/46 [==============================] - 0s 7ms/step - loss: 3.2381 - accuracy: 0.1711 - val_loss: 2.9081 - val_accuracy: 0.3377\n",
            "Epoch 7/200\n",
            "46/46 [==============================] - 0s 5ms/step - loss: 3.0529 - accuracy: 0.1754 - val_loss: 2.6770 - val_accuracy: 0.4035\n",
            "Epoch 8/200\n",
            "46/46 [==============================] - 0s 7ms/step - loss: 2.9046 - accuracy: 0.2018 - val_loss: 2.4975 - val_accuracy: 0.4342\n",
            "Epoch 9/200\n",
            "46/46 [==============================] - 0s 7ms/step - loss: 2.7341 - accuracy: 0.2632 - val_loss: 2.2893 - val_accuracy: 0.5175\n",
            "Epoch 10/200\n",
            "46/46 [==============================] - 0s 7ms/step - loss: 2.6937 - accuracy: 0.2719 - val_loss: 2.1134 - val_accuracy: 0.5219\n",
            "Epoch 11/200\n",
            "46/46 [==============================] - 0s 5ms/step - loss: 2.5239 - accuracy: 0.3114 - val_loss: 1.9208 - val_accuracy: 0.5746\n",
            "Epoch 12/200\n",
            "46/46 [==============================] - 0s 5ms/step - loss: 2.3870 - accuracy: 0.3684 - val_loss: 1.6992 - val_accuracy: 0.6842\n",
            "Epoch 13/200\n",
            "46/46 [==============================] - 0s 7ms/step - loss: 2.2128 - accuracy: 0.3772 - val_loss: 1.5658 - val_accuracy: 0.6886\n",
            "Epoch 14/200\n",
            "46/46 [==============================] - 0s 6ms/step - loss: 2.1050 - accuracy: 0.4254 - val_loss: 1.3800 - val_accuracy: 0.7500\n",
            "Epoch 15/200\n",
            "46/46 [==============================] - 0s 5ms/step - loss: 1.9941 - accuracy: 0.4386 - val_loss: 1.2934 - val_accuracy: 0.8202\n",
            "Epoch 16/200\n",
            "46/46 [==============================] - 0s 7ms/step - loss: 1.9498 - accuracy: 0.4430 - val_loss: 1.1581 - val_accuracy: 0.8158\n",
            "Epoch 17/200\n",
            "46/46 [==============================] - 0s 7ms/step - loss: 1.7574 - accuracy: 0.4649 - val_loss: 0.9904 - val_accuracy: 0.8553\n",
            "Epoch 18/200\n",
            "46/46 [==============================] - 0s 6ms/step - loss: 1.7971 - accuracy: 0.4912 - val_loss: 0.9697 - val_accuracy: 0.8684\n",
            "Epoch 19/200\n",
            "46/46 [==============================] - 0s 7ms/step - loss: 1.6993 - accuracy: 0.5219 - val_loss: 0.8526 - val_accuracy: 0.8772\n",
            "Epoch 20/200\n",
            "46/46 [==============================] - 0s 7ms/step - loss: 1.4820 - accuracy: 0.5570 - val_loss: 0.7863 - val_accuracy: 0.9035\n",
            "Epoch 21/200\n",
            "46/46 [==============================] - 0s 7ms/step - loss: 1.5534 - accuracy: 0.5746 - val_loss: 0.6855 - val_accuracy: 0.9079\n",
            "Epoch 22/200\n",
            "46/46 [==============================] - 0s 7ms/step - loss: 1.3729 - accuracy: 0.6140 - val_loss: 0.6288 - val_accuracy: 0.9342\n",
            "Epoch 23/200\n",
            "46/46 [==============================] - 0s 7ms/step - loss: 1.3224 - accuracy: 0.6096 - val_loss: 0.5358 - val_accuracy: 0.9386\n",
            "Epoch 24/200\n",
            "46/46 [==============================] - 0s 6ms/step - loss: 1.1819 - accuracy: 0.6447 - val_loss: 0.4870 - val_accuracy: 0.9342\n",
            "Epoch 25/200\n",
            "46/46 [==============================] - 0s 5ms/step - loss: 1.2091 - accuracy: 0.6447 - val_loss: 0.4766 - val_accuracy: 0.9605\n",
            "Epoch 26/200\n",
            "46/46 [==============================] - 0s 7ms/step - loss: 1.1978 - accuracy: 0.6842 - val_loss: 0.4000 - val_accuracy: 0.9342\n",
            "Epoch 27/200\n",
            "46/46 [==============================] - 0s 7ms/step - loss: 1.1213 - accuracy: 0.6623 - val_loss: 0.3710 - val_accuracy: 0.9605\n",
            "Epoch 28/200\n",
            "46/46 [==============================] - 0s 7ms/step - loss: 1.2501 - accuracy: 0.6447 - val_loss: 0.3713 - val_accuracy: 0.9693\n",
            "Epoch 29/200\n",
            "46/46 [==============================] - 0s 7ms/step - loss: 1.1267 - accuracy: 0.6447 - val_loss: 0.3016 - val_accuracy: 0.9737\n",
            "Epoch 30/200\n",
            "46/46 [==============================] - 0s 6ms/step - loss: 0.9359 - accuracy: 0.7281 - val_loss: 0.2815 - val_accuracy: 0.9825\n",
            "Epoch 31/200\n",
            "46/46 [==============================] - 0s 7ms/step - loss: 1.0062 - accuracy: 0.7061 - val_loss: 0.2629 - val_accuracy: 0.9781\n",
            "Epoch 32/200\n",
            "46/46 [==============================] - 0s 5ms/step - loss: 0.8180 - accuracy: 0.7456 - val_loss: 0.2350 - val_accuracy: 0.9693\n",
            "Epoch 33/200\n",
            "46/46 [==============================] - 0s 7ms/step - loss: 1.0383 - accuracy: 0.6886 - val_loss: 0.2213 - val_accuracy: 0.9693\n",
            "Epoch 34/200\n",
            "46/46 [==============================] - 0s 6ms/step - loss: 1.0571 - accuracy: 0.6711 - val_loss: 0.2245 - val_accuracy: 0.9737\n",
            "Epoch 35/200\n",
            "46/46 [==============================] - 0s 7ms/step - loss: 0.9194 - accuracy: 0.6974 - val_loss: 0.2085 - val_accuracy: 0.9693\n",
            "Epoch 36/200\n",
            "46/46 [==============================] - 0s 7ms/step - loss: 0.8424 - accuracy: 0.7544 - val_loss: 0.1832 - val_accuracy: 0.9649\n",
            "Epoch 37/200\n",
            "46/46 [==============================] - 0s 7ms/step - loss: 0.9160 - accuracy: 0.7061 - val_loss: 0.1730 - val_accuracy: 0.9781\n",
            "Epoch 38/200\n",
            "46/46 [==============================] - 0s 7ms/step - loss: 0.9000 - accuracy: 0.7281 - val_loss: 0.1576 - val_accuracy: 0.9693\n",
            "Epoch 39/200\n",
            "46/46 [==============================] - 0s 5ms/step - loss: 0.6866 - accuracy: 0.7632 - val_loss: 0.1195 - val_accuracy: 0.9912\n",
            "Epoch 40/200\n",
            "46/46 [==============================] - 0s 7ms/step - loss: 0.6869 - accuracy: 0.7982 - val_loss: 0.1078 - val_accuracy: 0.9912\n",
            "Epoch 41/200\n",
            "46/46 [==============================] - 0s 5ms/step - loss: 0.7412 - accuracy: 0.7500 - val_loss: 0.1122 - val_accuracy: 0.9912\n",
            "Epoch 42/200\n",
            "46/46 [==============================] - 0s 5ms/step - loss: 0.7334 - accuracy: 0.7632 - val_loss: 0.1131 - val_accuracy: 0.9912\n",
            "Epoch 43/200\n",
            "46/46 [==============================] - 0s 7ms/step - loss: 0.7696 - accuracy: 0.7632 - val_loss: 0.1166 - val_accuracy: 0.9912\n",
            "Epoch 44/200\n",
            "46/46 [==============================] - 0s 7ms/step - loss: 0.6673 - accuracy: 0.7807 - val_loss: 0.0989 - val_accuracy: 0.9912\n",
            "Epoch 45/200\n",
            "46/46 [==============================] - 0s 6ms/step - loss: 0.6975 - accuracy: 0.7763 - val_loss: 0.0932 - val_accuracy: 0.9956\n",
            "Epoch 46/200\n",
            "46/46 [==============================] - 0s 5ms/step - loss: 0.7533 - accuracy: 0.7632 - val_loss: 0.0890 - val_accuracy: 0.9912\n",
            "Epoch 47/200\n",
            "46/46 [==============================] - 0s 7ms/step - loss: 0.7486 - accuracy: 0.7719 - val_loss: 0.0793 - val_accuracy: 0.9912\n",
            "Epoch 48/200\n",
            "46/46 [==============================] - 0s 7ms/step - loss: 0.6587 - accuracy: 0.8070 - val_loss: 0.0730 - val_accuracy: 0.9956\n",
            "Epoch 49/200\n",
            "46/46 [==============================] - 0s 7ms/step - loss: 0.6903 - accuracy: 0.7763 - val_loss: 0.0764 - val_accuracy: 0.9956\n",
            "Epoch 50/200\n",
            "46/46 [==============================] - 0s 7ms/step - loss: 0.5902 - accuracy: 0.8158 - val_loss: 0.0673 - val_accuracy: 0.9912\n",
            "Epoch 51/200\n",
            "46/46 [==============================] - 0s 5ms/step - loss: 0.5769 - accuracy: 0.8070 - val_loss: 0.0685 - val_accuracy: 0.9912\n",
            "Epoch 52/200\n",
            "46/46 [==============================] - 0s 6ms/step - loss: 0.6627 - accuracy: 0.7719 - val_loss: 0.0594 - val_accuracy: 0.9912\n",
            "Epoch 53/200\n",
            "46/46 [==============================] - 0s 5ms/step - loss: 0.6432 - accuracy: 0.7895 - val_loss: 0.0685 - val_accuracy: 0.9825\n",
            "Epoch 54/200\n",
            "46/46 [==============================] - 0s 5ms/step - loss: 0.5362 - accuracy: 0.8421 - val_loss: 0.0575 - val_accuracy: 0.9956\n",
            "Epoch 55/200\n",
            "46/46 [==============================] - 0s 7ms/step - loss: 0.6620 - accuracy: 0.7719 - val_loss: 0.0579 - val_accuracy: 0.9956\n",
            "Epoch 56/200\n",
            "46/46 [==============================] - 0s 7ms/step - loss: 0.5051 - accuracy: 0.8377 - val_loss: 0.0551 - val_accuracy: 1.0000\n",
            "Epoch 57/200\n",
            "46/46 [==============================] - 0s 7ms/step - loss: 0.5763 - accuracy: 0.8158 - val_loss: 0.0506 - val_accuracy: 0.9956\n",
            "Epoch 58/200\n",
            "46/46 [==============================] - 0s 5ms/step - loss: 0.5143 - accuracy: 0.8465 - val_loss: 0.0433 - val_accuracy: 0.9956\n",
            "Epoch 59/200\n",
            "46/46 [==============================] - 0s 7ms/step - loss: 0.4465 - accuracy: 0.8465 - val_loss: 0.0454 - val_accuracy: 0.9956\n",
            "Epoch 60/200\n",
            "46/46 [==============================] - 0s 7ms/step - loss: 0.5721 - accuracy: 0.8070 - val_loss: 0.0480 - val_accuracy: 0.9956\n",
            "Epoch 61/200\n",
            "46/46 [==============================] - 0s 7ms/step - loss: 0.6184 - accuracy: 0.7851 - val_loss: 0.0521 - val_accuracy: 1.0000\n",
            "Epoch 62/200\n",
            "46/46 [==============================] - 0s 7ms/step - loss: 0.5232 - accuracy: 0.8202 - val_loss: 0.0530 - val_accuracy: 0.9868\n",
            "Epoch 63/200\n",
            "46/46 [==============================] - 0s 5ms/step - loss: 0.5550 - accuracy: 0.7939 - val_loss: 0.0415 - val_accuracy: 1.0000\n",
            "Epoch 64/200\n",
            "46/46 [==============================] - 0s 7ms/step - loss: 0.4825 - accuracy: 0.8509 - val_loss: 0.0378 - val_accuracy: 1.0000\n",
            "Epoch 65/200\n",
            "46/46 [==============================] - 0s 6ms/step - loss: 0.5130 - accuracy: 0.8421 - val_loss: 0.0445 - val_accuracy: 0.9956\n",
            "Epoch 66/200\n",
            "46/46 [==============================] - 0s 5ms/step - loss: 0.4562 - accuracy: 0.8465 - val_loss: 0.0324 - val_accuracy: 1.0000\n",
            "Epoch 67/200\n",
            "46/46 [==============================] - 0s 5ms/step - loss: 0.4597 - accuracy: 0.8553 - val_loss: 0.0349 - val_accuracy: 1.0000\n",
            "Epoch 68/200\n",
            "46/46 [==============================] - 0s 7ms/step - loss: 0.4965 - accuracy: 0.8465 - val_loss: 0.0272 - val_accuracy: 1.0000\n",
            "Epoch 69/200\n",
            "46/46 [==============================] - 0s 5ms/step - loss: 0.4371 - accuracy: 0.8509 - val_loss: 0.0266 - val_accuracy: 1.0000\n",
            "Epoch 70/200\n",
            "46/46 [==============================] - 0s 7ms/step - loss: 0.5438 - accuracy: 0.8289 - val_loss: 0.0292 - val_accuracy: 1.0000\n",
            "Epoch 71/200\n",
            "46/46 [==============================] - 0s 6ms/step - loss: 0.5611 - accuracy: 0.8202 - val_loss: 0.0301 - val_accuracy: 1.0000\n",
            "Epoch 72/200\n",
            "46/46 [==============================] - 0s 5ms/step - loss: 0.5634 - accuracy: 0.7851 - val_loss: 0.0326 - val_accuracy: 1.0000\n",
            "Epoch 73/200\n",
            "46/46 [==============================] - 0s 7ms/step - loss: 0.4851 - accuracy: 0.8333 - val_loss: 0.0344 - val_accuracy: 0.9912\n",
            "Epoch 74/200\n",
            "46/46 [==============================] - 0s 5ms/step - loss: 0.3442 - accuracy: 0.8772 - val_loss: 0.0288 - val_accuracy: 0.9912\n",
            "Epoch 75/200\n",
            "46/46 [==============================] - 0s 6ms/step - loss: 0.5457 - accuracy: 0.8114 - val_loss: 0.0261 - val_accuracy: 1.0000\n",
            "Epoch 76/200\n",
            "46/46 [==============================] - 0s 5ms/step - loss: 0.5606 - accuracy: 0.8026 - val_loss: 0.0276 - val_accuracy: 1.0000\n",
            "Epoch 77/200\n",
            "46/46 [==============================] - 0s 6ms/step - loss: 0.5089 - accuracy: 0.8377 - val_loss: 0.0220 - val_accuracy: 1.0000\n",
            "Epoch 78/200\n",
            "46/46 [==============================] - 0s 5ms/step - loss: 0.4698 - accuracy: 0.8333 - val_loss: 0.0267 - val_accuracy: 1.0000\n",
            "Epoch 79/200\n",
            "46/46 [==============================] - 0s 5ms/step - loss: 0.6145 - accuracy: 0.7719 - val_loss: 0.0286 - val_accuracy: 1.0000\n",
            "Epoch 80/200\n",
            "46/46 [==============================] - 0s 6ms/step - loss: 0.4825 - accuracy: 0.8465 - val_loss: 0.0301 - val_accuracy: 1.0000\n",
            "Epoch 81/200\n",
            "46/46 [==============================] - 0s 7ms/step - loss: 0.5501 - accuracy: 0.8333 - val_loss: 0.0299 - val_accuracy: 1.0000\n",
            "Epoch 82/200\n",
            "46/46 [==============================] - 0s 7ms/step - loss: 0.3896 - accuracy: 0.8509 - val_loss: 0.0248 - val_accuracy: 1.0000\n",
            "Epoch 83/200\n",
            "46/46 [==============================] - 0s 5ms/step - loss: 0.4477 - accuracy: 0.8816 - val_loss: 0.0277 - val_accuracy: 0.9956\n",
            "Epoch 84/200\n",
            "46/46 [==============================] - 0s 5ms/step - loss: 0.3792 - accuracy: 0.8991 - val_loss: 0.0192 - val_accuracy: 1.0000\n",
            "Epoch 85/200\n",
            "46/46 [==============================] - 0s 5ms/step - loss: 0.4368 - accuracy: 0.8596 - val_loss: 0.0194 - val_accuracy: 1.0000\n",
            "Epoch 86/200\n",
            "46/46 [==============================] - 0s 4ms/step - loss: 0.4377 - accuracy: 0.8553 - val_loss: 0.0187 - val_accuracy: 1.0000\n",
            "Epoch 87/200\n",
            "46/46 [==============================] - 0s 5ms/step - loss: 0.4551 - accuracy: 0.8333 - val_loss: 0.0197 - val_accuracy: 1.0000\n",
            "Epoch 88/200\n",
            "46/46 [==============================] - 0s 5ms/step - loss: 0.4269 - accuracy: 0.8684 - val_loss: 0.0195 - val_accuracy: 1.0000\n",
            "Epoch 89/200\n",
            "46/46 [==============================] - 0s 5ms/step - loss: 0.3783 - accuracy: 0.9079 - val_loss: 0.0204 - val_accuracy: 0.9956\n",
            "Epoch 90/200\n",
            "46/46 [==============================] - 0s 5ms/step - loss: 0.3972 - accuracy: 0.8377 - val_loss: 0.0197 - val_accuracy: 1.0000\n",
            "Epoch 91/200\n",
            "46/46 [==============================] - 0s 5ms/step - loss: 0.5121 - accuracy: 0.8377 - val_loss: 0.0179 - val_accuracy: 1.0000\n",
            "Epoch 92/200\n",
            "46/46 [==============================] - 0s 5ms/step - loss: 0.4234 - accuracy: 0.8684 - val_loss: 0.0184 - val_accuracy: 1.0000\n",
            "Epoch 93/200\n",
            "46/46 [==============================] - 0s 7ms/step - loss: 0.3456 - accuracy: 0.8860 - val_loss: 0.0205 - val_accuracy: 1.0000\n",
            "Epoch 94/200\n",
            "46/46 [==============================] - 0s 5ms/step - loss: 0.4189 - accuracy: 0.8772 - val_loss: 0.0171 - val_accuracy: 1.0000\n",
            "Epoch 95/200\n",
            "46/46 [==============================] - 0s 7ms/step - loss: 0.3298 - accuracy: 0.8860 - val_loss: 0.0147 - val_accuracy: 1.0000\n",
            "Epoch 96/200\n",
            "46/46 [==============================] - 0s 5ms/step - loss: 0.4915 - accuracy: 0.8640 - val_loss: 0.0144 - val_accuracy: 1.0000\n",
            "Epoch 97/200\n",
            "46/46 [==============================] - 0s 7ms/step - loss: 0.4585 - accuracy: 0.8553 - val_loss: 0.0169 - val_accuracy: 1.0000\n",
            "Epoch 98/200\n",
            "46/46 [==============================] - 0s 6ms/step - loss: 0.4739 - accuracy: 0.8421 - val_loss: 0.0199 - val_accuracy: 1.0000\n",
            "Epoch 99/200\n",
            "46/46 [==============================] - 0s 7ms/step - loss: 0.4296 - accuracy: 0.8553 - val_loss: 0.0164 - val_accuracy: 1.0000\n",
            "Epoch 100/200\n",
            "46/46 [==============================] - 0s 7ms/step - loss: 0.5275 - accuracy: 0.8202 - val_loss: 0.0184 - val_accuracy: 1.0000\n",
            "Epoch 101/200\n",
            "46/46 [==============================] - 0s 5ms/step - loss: 0.3652 - accuracy: 0.8991 - val_loss: 0.0200 - val_accuracy: 0.9956\n",
            "Epoch 102/200\n",
            "46/46 [==============================] - 0s 6ms/step - loss: 0.4133 - accuracy: 0.8640 - val_loss: 0.0168 - val_accuracy: 1.0000\n",
            "Epoch 103/200\n",
            "46/46 [==============================] - 0s 5ms/step - loss: 0.3471 - accuracy: 0.8904 - val_loss: 0.0145 - val_accuracy: 1.0000\n",
            "Epoch 104/200\n",
            "46/46 [==============================] - 0s 5ms/step - loss: 0.3866 - accuracy: 0.8596 - val_loss: 0.0123 - val_accuracy: 1.0000\n",
            "Epoch 105/200\n",
            "46/46 [==============================] - 0s 7ms/step - loss: 0.3855 - accuracy: 0.8728 - val_loss: 0.0103 - val_accuracy: 1.0000\n",
            "Epoch 106/200\n",
            "46/46 [==============================] - 0s 5ms/step - loss: 0.3453 - accuracy: 0.9035 - val_loss: 0.0116 - val_accuracy: 1.0000\n",
            "Epoch 107/200\n",
            "46/46 [==============================] - 0s 7ms/step - loss: 0.3749 - accuracy: 0.8728 - val_loss: 0.0107 - val_accuracy: 1.0000\n",
            "Epoch 108/200\n",
            "46/46 [==============================] - 0s 8ms/step - loss: 0.3576 - accuracy: 0.8728 - val_loss: 0.0115 - val_accuracy: 1.0000\n",
            "Epoch 109/200\n",
            "46/46 [==============================] - 0s 5ms/step - loss: 0.4370 - accuracy: 0.8377 - val_loss: 0.0119 - val_accuracy: 1.0000\n",
            "Epoch 110/200\n",
            "46/46 [==============================] - 0s 7ms/step - loss: 0.4504 - accuracy: 0.8377 - val_loss: 0.0109 - val_accuracy: 1.0000\n",
            "Epoch 111/200\n",
            "46/46 [==============================] - 0s 6ms/step - loss: 0.3875 - accuracy: 0.8816 - val_loss: 0.0135 - val_accuracy: 1.0000\n",
            "Epoch 112/200\n",
            "46/46 [==============================] - 0s 5ms/step - loss: 0.4451 - accuracy: 0.8509 - val_loss: 0.0117 - val_accuracy: 1.0000\n",
            "Epoch 113/200\n",
            "46/46 [==============================] - 0s 5ms/step - loss: 0.3135 - accuracy: 0.8991 - val_loss: 0.0113 - val_accuracy: 1.0000\n",
            "Epoch 114/200\n",
            "46/46 [==============================] - 0s 7ms/step - loss: 0.3971 - accuracy: 0.8728 - val_loss: 0.0130 - val_accuracy: 1.0000\n",
            "Epoch 115/200\n",
            "46/46 [==============================] - 0s 7ms/step - loss: 0.4320 - accuracy: 0.8377 - val_loss: 0.0138 - val_accuracy: 1.0000\n",
            "Epoch 116/200\n",
            "46/46 [==============================] - 0s 5ms/step - loss: 0.3390 - accuracy: 0.8816 - val_loss: 0.0097 - val_accuracy: 1.0000\n",
            "Epoch 117/200\n",
            "46/46 [==============================] - 0s 5ms/step - loss: 0.2975 - accuracy: 0.9123 - val_loss: 0.0087 - val_accuracy: 1.0000\n",
            "Epoch 118/200\n",
            "46/46 [==============================] - 0s 5ms/step - loss: 0.3109 - accuracy: 0.8991 - val_loss: 0.0090 - val_accuracy: 1.0000\n",
            "Epoch 119/200\n",
            "46/46 [==============================] - 0s 5ms/step - loss: 0.3593 - accuracy: 0.8904 - val_loss: 0.0109 - val_accuracy: 1.0000\n",
            "Epoch 120/200\n",
            "46/46 [==============================] - 0s 7ms/step - loss: 0.4103 - accuracy: 0.8772 - val_loss: 0.0091 - val_accuracy: 1.0000\n",
            "Epoch 121/200\n",
            "46/46 [==============================] - 0s 6ms/step - loss: 0.3208 - accuracy: 0.8684 - val_loss: 0.0088 - val_accuracy: 1.0000\n",
            "Epoch 122/200\n",
            "46/46 [==============================] - 0s 6ms/step - loss: 0.5337 - accuracy: 0.7982 - val_loss: 0.0117 - val_accuracy: 1.0000\n",
            "Epoch 123/200\n",
            "46/46 [==============================] - 0s 7ms/step - loss: 0.3424 - accuracy: 0.8904 - val_loss: 0.0100 - val_accuracy: 1.0000\n",
            "Epoch 124/200\n",
            "46/46 [==============================] - 0s 5ms/step - loss: 0.3578 - accuracy: 0.8904 - val_loss: 0.0096 - val_accuracy: 1.0000\n",
            "Epoch 125/200\n",
            "46/46 [==============================] - 0s 7ms/step - loss: 0.4179 - accuracy: 0.8553 - val_loss: 0.0087 - val_accuracy: 1.0000\n",
            "Epoch 126/200\n",
            "46/46 [==============================] - 0s 6ms/step - loss: 0.4519 - accuracy: 0.8596 - val_loss: 0.0094 - val_accuracy: 1.0000\n",
            "Epoch 127/200\n",
            "46/46 [==============================] - 0s 5ms/step - loss: 0.3316 - accuracy: 0.9035 - val_loss: 0.0101 - val_accuracy: 1.0000\n",
            "Epoch 128/200\n",
            "46/46 [==============================] - 0s 5ms/step - loss: 0.4396 - accuracy: 0.8684 - val_loss: 0.0095 - val_accuracy: 1.0000\n",
            "Epoch 129/200\n",
            "46/46 [==============================] - 0s 4ms/step - loss: 0.3122 - accuracy: 0.8904 - val_loss: 0.0096 - val_accuracy: 1.0000\n",
            "Epoch 130/200\n",
            "46/46 [==============================] - 0s 6ms/step - loss: 0.3140 - accuracy: 0.8991 - val_loss: 0.0085 - val_accuracy: 1.0000\n",
            "Epoch 131/200\n",
            "46/46 [==============================] - 0s 5ms/step - loss: 0.2850 - accuracy: 0.9123 - val_loss: 0.0082 - val_accuracy: 1.0000\n",
            "Epoch 132/200\n",
            "46/46 [==============================] - 0s 5ms/step - loss: 0.3132 - accuracy: 0.8947 - val_loss: 0.0083 - val_accuracy: 1.0000\n",
            "Epoch 133/200\n",
            "46/46 [==============================] - 0s 7ms/step - loss: 0.3397 - accuracy: 0.8860 - val_loss: 0.0090 - val_accuracy: 1.0000\n",
            "Epoch 134/200\n",
            "46/46 [==============================] - 0s 4ms/step - loss: 0.3226 - accuracy: 0.8860 - val_loss: 0.0065 - val_accuracy: 1.0000\n",
            "Epoch 135/200\n",
            "46/46 [==============================] - 0s 5ms/step - loss: 0.4030 - accuracy: 0.8772 - val_loss: 0.0081 - val_accuracy: 1.0000\n",
            "Epoch 136/200\n",
            "46/46 [==============================] - 0s 5ms/step - loss: 0.3723 - accuracy: 0.8772 - val_loss: 0.0075 - val_accuracy: 1.0000\n",
            "Epoch 137/200\n",
            "46/46 [==============================] - 0s 7ms/step - loss: 0.2548 - accuracy: 0.9254 - val_loss: 0.0062 - val_accuracy: 1.0000\n",
            "Epoch 138/200\n",
            "46/46 [==============================] - 0s 4ms/step - loss: 0.2694 - accuracy: 0.9167 - val_loss: 0.0061 - val_accuracy: 1.0000\n",
            "Epoch 139/200\n",
            "46/46 [==============================] - 0s 5ms/step - loss: 0.3377 - accuracy: 0.8728 - val_loss: 0.0064 - val_accuracy: 1.0000\n",
            "Epoch 140/200\n",
            "46/46 [==============================] - 0s 5ms/step - loss: 0.3278 - accuracy: 0.9035 - val_loss: 0.0054 - val_accuracy: 1.0000\n",
            "Epoch 141/200\n",
            "46/46 [==============================] - 0s 5ms/step - loss: 0.2872 - accuracy: 0.9211 - val_loss: 0.0051 - val_accuracy: 1.0000\n",
            "Epoch 142/200\n",
            "46/46 [==============================] - 0s 5ms/step - loss: 0.4207 - accuracy: 0.8684 - val_loss: 0.0065 - val_accuracy: 1.0000\n",
            "Epoch 143/200\n",
            "46/46 [==============================] - 0s 7ms/step - loss: 0.3811 - accuracy: 0.8904 - val_loss: 0.0057 - val_accuracy: 1.0000\n",
            "Epoch 144/200\n",
            "46/46 [==============================] - 0s 5ms/step - loss: 0.2712 - accuracy: 0.9079 - val_loss: 0.0051 - val_accuracy: 1.0000\n",
            "Epoch 145/200\n",
            "46/46 [==============================] - 0s 5ms/step - loss: 0.3828 - accuracy: 0.8596 - val_loss: 0.0046 - val_accuracy: 1.0000\n",
            "Epoch 146/200\n",
            "46/46 [==============================] - 0s 5ms/step - loss: 0.3608 - accuracy: 0.8684 - val_loss: 0.0051 - val_accuracy: 1.0000\n",
            "Epoch 147/200\n",
            "46/46 [==============================] - 0s 6ms/step - loss: 0.3894 - accuracy: 0.8772 - val_loss: 0.0093 - val_accuracy: 0.9956\n",
            "Epoch 148/200\n",
            "46/46 [==============================] - 0s 5ms/step - loss: 0.3259 - accuracy: 0.8904 - val_loss: 0.0058 - val_accuracy: 1.0000\n",
            "Epoch 149/200\n",
            "46/46 [==============================] - 0s 5ms/step - loss: 0.2709 - accuracy: 0.8991 - val_loss: 0.0061 - val_accuracy: 1.0000\n",
            "Epoch 150/200\n",
            "46/46 [==============================] - 0s 7ms/step - loss: 0.2960 - accuracy: 0.8860 - val_loss: 0.0053 - val_accuracy: 1.0000\n",
            "Epoch 151/200\n",
            "46/46 [==============================] - 0s 5ms/step - loss: 0.2754 - accuracy: 0.9123 - val_loss: 0.0049 - val_accuracy: 1.0000\n",
            "Epoch 152/200\n",
            "46/46 [==============================] - 0s 7ms/step - loss: 0.2406 - accuracy: 0.8991 - val_loss: 0.0045 - val_accuracy: 1.0000\n",
            "Epoch 153/200\n",
            "46/46 [==============================] - 0s 5ms/step - loss: 0.2925 - accuracy: 0.8904 - val_loss: 0.0040 - val_accuracy: 1.0000\n",
            "Epoch 154/200\n",
            "46/46 [==============================] - 0s 5ms/step - loss: 0.3666 - accuracy: 0.8860 - val_loss: 0.0062 - val_accuracy: 1.0000\n",
            "Epoch 155/200\n",
            "46/46 [==============================] - 0s 5ms/step - loss: 0.3485 - accuracy: 0.8816 - val_loss: 0.0045 - val_accuracy: 1.0000\n",
            "Epoch 156/200\n",
            "46/46 [==============================] - 0s 7ms/step - loss: 0.3783 - accuracy: 0.8596 - val_loss: 0.0036 - val_accuracy: 1.0000\n",
            "Epoch 157/200\n",
            "46/46 [==============================] - 0s 7ms/step - loss: 0.3986 - accuracy: 0.8684 - val_loss: 0.0044 - val_accuracy: 1.0000\n",
            "Epoch 158/200\n",
            "46/46 [==============================] - 0s 5ms/step - loss: 0.3839 - accuracy: 0.8772 - val_loss: 0.0044 - val_accuracy: 1.0000\n",
            "Epoch 159/200\n",
            "46/46 [==============================] - 0s 5ms/step - loss: 0.2941 - accuracy: 0.8991 - val_loss: 0.0071 - val_accuracy: 1.0000\n",
            "Epoch 160/200\n",
            "46/46 [==============================] - 0s 5ms/step - loss: 0.4213 - accuracy: 0.8860 - val_loss: 0.0056 - val_accuracy: 1.0000\n",
            "Epoch 161/200\n",
            "46/46 [==============================] - 0s 5ms/step - loss: 0.4526 - accuracy: 0.8465 - val_loss: 0.0046 - val_accuracy: 1.0000\n",
            "Epoch 162/200\n",
            "46/46 [==============================] - 0s 4ms/step - loss: 0.3660 - accuracy: 0.8772 - val_loss: 0.0053 - val_accuracy: 1.0000\n",
            "Epoch 163/200\n",
            "46/46 [==============================] - 0s 5ms/step - loss: 0.3967 - accuracy: 0.8772 - val_loss: 0.0060 - val_accuracy: 1.0000\n",
            "Epoch 164/200\n",
            "46/46 [==============================] - 0s 6ms/step - loss: 0.3350 - accuracy: 0.8816 - val_loss: 0.0068 - val_accuracy: 1.0000\n",
            "Epoch 165/200\n",
            "46/46 [==============================] - 0s 5ms/step - loss: 0.4473 - accuracy: 0.8509 - val_loss: 0.0089 - val_accuracy: 1.0000\n",
            "Epoch 166/200\n",
            "46/46 [==============================] - 0s 6ms/step - loss: 0.3685 - accuracy: 0.8596 - val_loss: 0.0081 - val_accuracy: 1.0000\n",
            "Epoch 167/200\n",
            "46/46 [==============================] - 0s 5ms/step - loss: 0.3966 - accuracy: 0.8728 - val_loss: 0.0053 - val_accuracy: 1.0000\n",
            "Epoch 168/200\n",
            "46/46 [==============================] - 0s 5ms/step - loss: 0.3170 - accuracy: 0.8947 - val_loss: 0.0043 - val_accuracy: 1.0000\n",
            "Epoch 169/200\n",
            "46/46 [==============================] - 0s 5ms/step - loss: 0.3343 - accuracy: 0.8860 - val_loss: 0.0046 - val_accuracy: 1.0000\n",
            "Epoch 170/200\n",
            "46/46 [==============================] - 0s 7ms/step - loss: 0.3210 - accuracy: 0.9035 - val_loss: 0.0048 - val_accuracy: 1.0000\n",
            "Epoch 171/200\n",
            "46/46 [==============================] - 0s 7ms/step - loss: 0.3414 - accuracy: 0.8904 - val_loss: 0.0037 - val_accuracy: 1.0000\n",
            "Epoch 172/200\n",
            "46/46 [==============================] - 0s 7ms/step - loss: 0.3980 - accuracy: 0.8772 - val_loss: 0.0057 - val_accuracy: 1.0000\n",
            "Epoch 173/200\n",
            "46/46 [==============================] - 0s 4ms/step - loss: 0.3148 - accuracy: 0.8860 - val_loss: 0.0052 - val_accuracy: 1.0000\n",
            "Epoch 174/200\n",
            "46/46 [==============================] - 0s 6ms/step - loss: 0.2911 - accuracy: 0.9035 - val_loss: 0.0041 - val_accuracy: 1.0000\n",
            "Epoch 175/200\n",
            "46/46 [==============================] - 0s 5ms/step - loss: 0.3385 - accuracy: 0.8904 - val_loss: 0.0038 - val_accuracy: 1.0000\n",
            "Epoch 176/200\n",
            "46/46 [==============================] - 0s 4ms/step - loss: 0.4130 - accuracy: 0.8596 - val_loss: 0.0040 - val_accuracy: 1.0000\n",
            "Epoch 177/200\n",
            "46/46 [==============================] - 0s 5ms/step - loss: 0.4423 - accuracy: 0.8816 - val_loss: 0.0033 - val_accuracy: 1.0000\n",
            "Epoch 178/200\n",
            "46/46 [==============================] - 0s 5ms/step - loss: 0.2998 - accuracy: 0.8860 - val_loss: 0.0034 - val_accuracy: 1.0000\n",
            "Epoch 179/200\n",
            "46/46 [==============================] - 0s 5ms/step - loss: 0.2779 - accuracy: 0.9035 - val_loss: 0.0036 - val_accuracy: 1.0000\n",
            "Epoch 180/200\n",
            "46/46 [==============================] - 0s 7ms/step - loss: 0.3052 - accuracy: 0.9035 - val_loss: 0.0035 - val_accuracy: 1.0000\n",
            "Epoch 181/200\n",
            "46/46 [==============================] - 0s 5ms/step - loss: 0.2968 - accuracy: 0.9123 - val_loss: 0.0033 - val_accuracy: 1.0000\n",
            "Epoch 182/200\n",
            "46/46 [==============================] - 0s 5ms/step - loss: 0.4194 - accuracy: 0.8640 - val_loss: 0.0037 - val_accuracy: 1.0000\n",
            "Epoch 183/200\n",
            "46/46 [==============================] - 0s 7ms/step - loss: 0.2772 - accuracy: 0.9123 - val_loss: 0.0055 - val_accuracy: 1.0000\n",
            "Epoch 184/200\n",
            "46/46 [==============================] - 0s 5ms/step - loss: 0.3097 - accuracy: 0.9035 - val_loss: 0.0031 - val_accuracy: 1.0000\n",
            "Epoch 185/200\n",
            "46/46 [==============================] - 0s 7ms/step - loss: 0.2628 - accuracy: 0.8991 - val_loss: 0.0031 - val_accuracy: 1.0000\n",
            "Epoch 186/200\n",
            "46/46 [==============================] - 0s 7ms/step - loss: 0.3133 - accuracy: 0.8947 - val_loss: 0.0034 - val_accuracy: 1.0000\n",
            "Epoch 187/200\n",
            "46/46 [==============================] - 0s 7ms/step - loss: 0.3273 - accuracy: 0.8816 - val_loss: 0.0035 - val_accuracy: 1.0000\n",
            "Epoch 188/200\n",
            "46/46 [==============================] - 0s 5ms/step - loss: 0.2678 - accuracy: 0.8947 - val_loss: 0.0032 - val_accuracy: 1.0000\n",
            "Epoch 189/200\n",
            "46/46 [==============================] - 0s 5ms/step - loss: 0.4048 - accuracy: 0.8772 - val_loss: 0.0047 - val_accuracy: 1.0000\n",
            "Epoch 190/200\n",
            "46/46 [==============================] - 0s 6ms/step - loss: 0.3498 - accuracy: 0.8991 - val_loss: 0.0040 - val_accuracy: 1.0000\n",
            "Epoch 191/200\n",
            "46/46 [==============================] - 0s 7ms/step - loss: 0.3347 - accuracy: 0.8904 - val_loss: 0.0036 - val_accuracy: 1.0000\n",
            "Epoch 192/200\n",
            "46/46 [==============================] - 0s 5ms/step - loss: 0.3015 - accuracy: 0.9123 - val_loss: 0.0042 - val_accuracy: 1.0000\n",
            "Epoch 193/200\n",
            "46/46 [==============================] - 0s 6ms/step - loss: 0.3323 - accuracy: 0.8860 - val_loss: 0.0034 - val_accuracy: 1.0000\n",
            "Epoch 194/200\n",
            "46/46 [==============================] - 0s 7ms/step - loss: 0.2234 - accuracy: 0.9211 - val_loss: 0.0030 - val_accuracy: 1.0000\n",
            "Epoch 195/200\n",
            "46/46 [==============================] - 0s 5ms/step - loss: 0.3164 - accuracy: 0.8947 - val_loss: 0.0034 - val_accuracy: 1.0000\n",
            "Epoch 196/200\n",
            "46/46 [==============================] - 0s 5ms/step - loss: 0.3964 - accuracy: 0.8772 - val_loss: 0.0030 - val_accuracy: 1.0000\n",
            "Epoch 197/200\n",
            "46/46 [==============================] - 0s 7ms/step - loss: 0.3460 - accuracy: 0.8772 - val_loss: 0.0048 - val_accuracy: 1.0000\n",
            "Epoch 198/200\n",
            "46/46 [==============================] - 0s 7ms/step - loss: 0.2962 - accuracy: 0.9123 - val_loss: 0.0078 - val_accuracy: 1.0000\n",
            "Epoch 199/200\n",
            "46/46 [==============================] - 0s 5ms/step - loss: 0.2638 - accuracy: 0.9211 - val_loss: 0.0058 - val_accuracy: 1.0000\n",
            "Epoch 200/200\n",
            "46/46 [==============================] - 0s 5ms/step - loss: 0.3691 - accuracy: 0.8860 - val_loss: 0.0046 - val_accuracy: 1.0000\n",
            "model created\n"
          ]
        }
      ],
      "source": [
        "import nltk\n",
        "nltk.download('omw-1.4')\n",
        "nltk.download('punkt')\n",
        "nltk.download('wordnet')\n",
        "from nltk.stem import WordNetLemmatizer\n",
        "lemmatizer = WordNetLemmatizer()\n",
        "import json\n",
        "import pickle\n",
        "\n",
        "import numpy as np\n",
        "from tensorflow.keras.models import Sequential\n",
        "from tensorflow.keras.layers import Dense, Activation, Dropout\n",
        "from tensorflow.keras.optimizers import SGD\n",
        "\n",
        "\n",
        "import random\n",
        "\n",
        "#tensorboard\n",
        "%load_ext tensorboard\n",
        "from datetime import datetime\n",
        "from packaging import version\n",
        "\n",
        "import tensorflow as tf\n",
        "from tensorflow import keras\n",
        "from keras import backend as K\n",
        "\n",
        "import numpy as np\n",
        "\n",
        "\n",
        "words=[]\n",
        "classes = []\n",
        "documents = []\n",
        "ignore_words = ['?', '!']\n",
        "data_file = open('intents.json').read()\n",
        "intents = json.loads(data_file)\n",
        "\n",
        "\n",
        "for intent in intents['intents']:\n",
        "    for pattern in intent['patterns']:\n",
        "\n",
        "        # take each word and tokenize it\n",
        "        w = nltk.word_tokenize(pattern)\n",
        "        words.extend(w)\n",
        "        # adding documents\n",
        "        documents.append((w, intent['tag']))\n",
        "\n",
        "        # adding classes to our class list\n",
        "        if intent['tag'] not in classes:\n",
        "            classes.append(intent['tag'])\n",
        "\n",
        "words = [lemmatizer.lemmatize(w.lower()) for w in words if w not in ignore_words]\n",
        "words = sorted(list(set(words)))\n",
        "\n",
        "classes = sorted(list(set(classes)))\n",
        "\n",
        "print (len(documents), \"documents\")\n",
        "\n",
        "print (len(classes), \"classes\", classes)\n",
        "\n",
        "print (len(words), \"unique lemmatized words\", words)\n",
        "\n",
        "\n",
        "pickle.dump(words,open('words.pkl','wb'))\n",
        "pickle.dump(classes,open('classes.pkl','wb'))\n",
        "\n",
        "# initializing training data\n",
        "training = []\n",
        "output_empty = [0] * len(classes)\n",
        "for doc in documents:\n",
        "    # initializing bag of words\n",
        "    bag = []\n",
        "    # list of tokenized words for the pattern\n",
        "    pattern_words = doc[0]\n",
        "    # lemmatize each word - create base word, in attempt to represent related words\n",
        "    pattern_words = [lemmatizer.lemmatize(word.lower()) for word in pattern_words]\n",
        "    # create our bag of words array with 1, if word match found in current pattern\n",
        "    for w in words:\n",
        "        bag.append(1) if w in pattern_words else bag.append(0)\n",
        "\n",
        "    # output is a '0' for each tag and '1' for current tag (for each pattern)\n",
        "    output_row = list(output_empty)\n",
        "    output_row[classes.index(doc[1])] = 1\n",
        "\n",
        "    training.append([bag, output_row])\n",
        "# shuffle our features and turn into np.array\n",
        "random.shuffle(training)\n",
        "training = np.array(training)\n",
        "# create train and test lists. X - patterns, Y - intents\n",
        "train_x = list(training[:,0])\n",
        "train_y = list(training[:,1])\n",
        "\n",
        "print(\"Training data created\")\n",
        "\n",
        "#log tensorboard\n",
        "logdir = \"logs/scalars/\" + datetime.now().strftime(\"%Y%m%d-%H%M%S\")\n",
        "tensorboard_callback = keras.callbacks.TensorBoard(log_dir=logdir)\n",
        "\n",
        "# Create model - 3 layers. First layer 128 neurons, second layer 64 neurons and 3rd output layer contains number of neurons\n",
        "# equal to number of intents to predict output intent with softmax\n",
        "model = Sequential()\n",
        "model.add(Dense(128, input_shape=(len(train_x[0]),), activation='relu'))\n",
        "model.add(Dropout(0.5))\n",
        "model.add(Dense(42, activation='relu'))\n",
        "model.add(Dropout(0.5)) #tambah\n",
        "\n",
        "model.add(Dense(len(train_y[0]), activation='softmax'))\n",
        "\n",
        "\n",
        "# Compile model. Stochastic gradient descent with Nesterov accelerated gradient gives good results for this model\n",
        "sgd = SGD(lr=0.01, decay=1e-6, momentum=0.9, nesterov=True)\n",
        "model.compile(loss='categorical_crossentropy', optimizer=sgd, metrics=['accuracy'])\n",
        "model.summary()\n",
        "\n",
        "\n",
        "#fitting and saving the model\n",
        "hist = model.fit(np.array(train_x), np.array(train_y), epochs=200, batch_size=5, verbose=1, \n",
        "                 validation_data=(train_x, train_y), callbacks=[tensorboard_callback],)\n",
        "\n",
        "#hist = model.fit(np.array(train_x), np.array(train_y), epochs=200, batch_size=5, verbose=1, \n",
        "                 #validation_data=(train_x, train_y), callbacks=[tensorboard_callback],)\n",
        "\n",
        "\n",
        "\n",
        "#Save model h5 to drive\n",
        "model.save('/content/drive/MyDrive/Colab Notebooks/Chatbot/model h5/chatbot_model.h5', hist) \n",
        "\n",
        "\n",
        "print(\"model created\")"
      ]
    },
    {
      "cell_type": "code",
      "execution_count": 27,
      "metadata": {
        "colab": {
          "base_uri": "https://localhost:8080/",
          "height": 838
        },
        "id": "F6Wk8XEWqiqG",
        "outputId": "eca1ec72-8fd2-45a9-ea55-1e21cbf0f902"
      },
      "outputs": [
        {
          "output_type": "display_data",
          "data": {
            "text/plain": [
              "Reusing TensorBoard on port 6006 (pid 4990), started 0:04:25 ago. (Use '!kill 4990' to kill it.)"
            ]
          },
          "metadata": {}
        },
        {
          "output_type": "display_data",
          "data": {
            "text/plain": [
              "<IPython.core.display.Javascript object>"
            ],
            "application/javascript": [
              "\n",
              "        (async () => {\n",
              "            const url = new URL(await google.colab.kernel.proxyPort(6006, {'cache': true}));\n",
              "            url.searchParams.set('tensorboardColab', 'true');\n",
              "            const iframe = document.createElement('iframe');\n",
              "            iframe.src = url;\n",
              "            iframe.setAttribute('width', '100%');\n",
              "            iframe.setAttribute('height', '800');\n",
              "            iframe.setAttribute('frameborder', 0);\n",
              "            document.body.appendChild(iframe);\n",
              "        })();\n",
              "    "
            ]
          },
          "metadata": {}
        }
      ],
      "source": [
        "%tensorboard --logdir logs/scalars"
      ]
    },
    {
      "cell_type": "code",
      "execution_count": null,
      "metadata": {
        "colab": {
          "base_uri": "https://localhost:8080/",
          "height": 564
        },
        "id": "5BKYZvojWr7x",
        "outputId": "d2cd1934-521c-48dd-96d4-3042fb944443"
      },
      "outputs": [
        {
          "data": {
            "image/png": "[encoded data removed]",
            "text/plain": [
              "<IPython.core.display.Image object>"
            ]
          },
          "execution_count": 8,
          "metadata": {},
          "output_type": "execute_result"
        }
      ],
      "source": [
        "from tensorflow.keras.utils import plot_model\n",
        "plot_model(model,to_file='model.png')"
      ]
    },
    {
      "cell_type": "markdown",
      "metadata": {
        "id": "q7H_9GpMDoPG"
      },
      "source": [
        "# You'll see  a bunch of new files in the contents dir. \n",
        "\n",
        "# Next we need to create the  template and static directory that the flask app needs/wants."
      ]
    },
    {
      "cell_type": "code",
      "execution_count": null,
      "metadata": {
        "colab": {
          "base_uri": "https://localhost:8080/"
        },
        "id": "VAYUoh5NKN5z",
        "outputId": "2de6c521-ac82-4122-d99d-938cf9833e15"
      },
      "outputs": [
        {
          "name": "stdout",
          "output_type": "stream",
          "text": [
            "mkdir: cannot create directory ‘templates’: File exists\n",
            "mkdir: cannot create directory ‘static’: File exists\n"
          ]
        }
      ],
      "source": [
        "!mkdir templates\n",
        "!mkdir static"
      ]
    },
    {
      "cell_type": "code",
      "execution_count": null,
      "metadata": {
        "colab": {
          "base_uri": "https://localhost:8080/"
        },
        "id": "iDHsgUzqDxhx",
        "outputId": "7ddc0bf4-7f01-4101-fc06-5d8065d09868"
      },
      "outputs": [
        {
          "name": "stdout",
          "output_type": "stream",
          "text": [
            "--2022-11-28 04:10:12--  https://raw.githubusercontent.com/jumli-gazali/ppl-chatbot/main/chat.html\n",
            "Resolving raw.githubusercontent.com (raw.githubusercontent.com)... 185.199.110.133, 185.199.108.133, 185.199.111.133, ...\n",
            "Connecting to raw.githubusercontent.com (raw.githubusercontent.com)|185.199.110.133|:443... connected.\n",
            "HTTP request sent, awaiting response... 200 OK\n",
            "Length: 3467 (3.4K) [text/plain]\n",
            "Saving to: ‘/content/drive/MyDrive/Colab Notebooks/Chatbot/templates/chat.html.10’\n",
            "\n",
            "chat.html.10        100%[===================>]   3.39K  --.-KB/s    in 0.001s  \n",
            "\n",
            "2022-11-28 04:10:12 (3.16 MB/s) - ‘/content/drive/MyDrive/Colab Notebooks/Chatbot/templates/chat.html.10’ saved [3467/3467]\n",
            "\n"
          ]
        }
      ],
      "source": [
        "#!wget -P /content/templates https://raw.githubusercontent.com/jumli-gazali/ppl-chatbot/main/chat.html\n",
        "!wget -P '/content/drive/MyDrive/Colab Notebooks/Chatbot/templates' https://raw.githubusercontent.com/jumli-gazali/ppl-chatbot/main/chat.html"
      ]
    },
    {
      "cell_type": "code",
      "execution_count": null,
      "metadata": {
        "colab": {
          "base_uri": "https://localhost:8080/"
        },
        "id": "t3ShfEAC7Rga",
        "outputId": "9c993905-7e79-455f-e2ce-83ffd6f0acee"
      },
      "outputs": [
        {
          "name": "stdout",
          "output_type": "stream",
          "text": [
            "--2022-11-28 04:10:12--  https://raw.githubusercontent.com/jumli-gazali/ppl-chatbot/main/static/style.css\n",
            "Resolving raw.githubusercontent.com (raw.githubusercontent.com)... 185.199.109.133, 185.199.111.133, 185.199.108.133, ...\n",
            "Connecting to raw.githubusercontent.com (raw.githubusercontent.com)|185.199.109.133|:443... connected.\n",
            "HTTP request sent, awaiting response... 200 OK\n",
            "Length: 12518 (12K) [text/plain]\n",
            "Saving to: ‘/content/drive/MyDrive/Colab Notebooks/Chatbot/static/style.css.9’\n",
            "\n",
            "style.css.9         100%[===================>]  12.22K  --.-KB/s    in 0.003s  \n",
            "\n",
            "2022-11-28 04:10:12 (4.56 MB/s) - ‘/content/drive/MyDrive/Colab Notebooks/Chatbot/static/style.css.9’ saved [12518/12518]\n",
            "\n"
          ]
        }
      ],
      "source": [
        "#!wget -P /content/static https://raw.githubusercontent.com/jumli-gazali/ppl-chatbot/main/static/style.css\n",
        "!wget -P '/content/drive/MyDrive/Colab Notebooks/Chatbot/static' https://raw.githubusercontent.com/jumli-gazali/ppl-chatbot/main/static/style.css"
      ]
    },
    {
      "cell_type": "markdown",
      "metadata": {
        "id": "gxt7fRFJHPqx"
      },
      "source": [
        "we need to get the home.html file"
      ]
    },
    {
      "cell_type": "code",
      "execution_count": null,
      "metadata": {
        "colab": {
          "base_uri": "https://localhost:8080/"
        },
        "id": "5m5NrSPyHSWB",
        "outputId": "19a84418-5ac3-48de-de60-aed3b6abc528"
      },
      "outputs": [
        {
          "name": "stdout",
          "output_type": "stream",
          "text": [
            "--2022-11-28 04:10:12--  https://raw.githubusercontent.com/jumli-gazali/ppl-chatbot/main/home.html\n",
            "Resolving raw.githubusercontent.com (raw.githubusercontent.com)... 185.199.108.133, 185.199.109.133, 185.199.110.133, ...\n",
            "Connecting to raw.githubusercontent.com (raw.githubusercontent.com)|185.199.108.133|:443... connected.\n",
            "HTTP request sent, awaiting response... 200 OK\n",
            "Length: 1625 (1.6K) [text/plain]\n",
            "Saving to: ‘/content/drive/MyDrive/Colab Notebooks/Chatbot/templates/home.html.10’\n",
            "\n",
            "\rhome.html.10          0%[                    ]       0  --.-KB/s               \rhome.html.10        100%[===================>]   1.59K  --.-KB/s    in 0.001s  \n",
            "\n",
            "2022-11-28 04:10:12 (1.80 MB/s) - ‘/content/drive/MyDrive/Colab Notebooks/Chatbot/templates/home.html.10’ saved [1625/1625]\n",
            "\n"
          ]
        }
      ],
      "source": [
        "#!wget -P /content/templates https://raw.githubusercontent.com/jumli-gazali/ppl-chatbot/main/home.html\n",
        "!wget -P '/content/drive/MyDrive/Colab Notebooks/Chatbot/templates' https://raw.githubusercontent.com/jumli-gazali/ppl-chatbot/main/home.html"
      ]
    },
    {
      "cell_type": "code",
      "execution_count": null,
      "metadata": {
        "colab": {
          "base_uri": "https://localhost:8080/"
        },
        "id": "tPojHvAMLX3q",
        "outputId": "33c17996-b148-4bb1-ca95-7a1404ea7777"
      },
      "outputs": [
        {
          "name": "stdout",
          "output_type": "stream",
          "text": [
            "touch: cannot touch 'drive/MyDrive/Colab Notebooks/Chatbot/storage.txt': No such file or directory\n"
          ]
        }
      ],
      "source": [
        "!touch 'drive/MyDrive/Colab Notebooks/Chatbot/storage.txt'"
      ]
    },
    {
      "cell_type": "markdown",
      "metadata": {
        "id": "aT9TAeg-EGxN"
      },
      "source": [
        "next we'll run the chat UI"
      ]
    },
    {
      "cell_type": "code",
      "execution_count": null,
      "metadata": {
        "colab": {
          "base_uri": "https://localhost:8080/"
        },
        "id": "kTUimsGqEL3d",
        "outputId": "3786b259-64e6-43c7-e19d-c07460b84cac"
      },
      "outputs": [
        {
          "metadata": {
            "tags": null
          },
          "name": "stderr",
          "output_type": "stream",
          "text": [
            "INFO:werkzeug: * Running on http://127.0.0.1:5000/ (Press CTRL+C to quit)\n"
          ]
        },
        {
          "metadata": {
            "tags": null
          },
          "name": "stdout",
          "output_type": "stream",
          "text": [
            " * Running on http://198b-35-245-11-26.ngrok.io\n",
            " * Traffic stats available on http://127.0.0.1:4040\n"
          ]
        },
        {
          "metadata": {
            "tags": null
          },
          "name": "stderr",
          "output_type": "stream",
          "text": [
            "INFO:werkzeug:127.0.0.1 - - [28/Nov/2022 04:11:57] \"\u001b[37mGET / HTTP/1.1\u001b[0m\" 200 -\n",
            "INFO:werkzeug:127.0.0.1 - - [28/Nov/2022 04:11:58] \"\u001b[33mGET /Logo/logo.jpeg HTTP/1.1\u001b[0m\" 404 -\n",
            "INFO:werkzeug:127.0.0.1 - - [28/Nov/2022 04:11:58] \"\u001b[33mGET /favicon.ico HTTP/1.1\u001b[0m\" 404 -\n",
            "INFO:werkzeug:127.0.0.1 - - [28/Nov/2022 04:12:04] \"\u001b[37mGET /chat HTTP/1.1\u001b[0m\" 200 -\n",
            "INFO:werkzeug:127.0.0.1 - - [28/Nov/2022 04:12:04] \"\u001b[37mGET /static/styles/style.css HTTP/1.1\u001b[0m\" 200 -\n",
            "INFO:werkzeug:127.0.0.1 - - [28/Nov/2022 04:12:05] \"\u001b[33mGET /Logo/logo.jpeg HTTP/1.1\u001b[0m\" 404 -\n"
          ]
        },
        {
          "metadata": {
            "tags": null
          },
          "name": "stdout",
          "output_type": "stream",
          "text": [
            "get is called\n",
            "1/1 [==============================] - 0s 105ms/step\n",
            "['Gedung IGD terletak di sebelah barat Gedung A selurusan dengan gerbang masuk RSMY terdiri dari 3 lantai', 'Di Gedung A, Lantai 1', 'Lantai 1 Gedung A', 'Di Gedung A, Lantai 1', 'Lantai 1 Gedung A', 'Di Gedung A Lantai 2', 'Di Gedung Fatmawati Lantai 1', 'Lantai 1 Gedung A', 'mohom Ketikan pesan dengan benar', 'Lantai 1 Gedung A', 'mohom Ketikan pesan dengan benar', 'Lantai 1 Gedung C', 'Mohon masukkan pesan dengan benar', 'mohom Ketikan pesan dengan benar', 'Lantai 1 Gedung A', 'Di Gedung A Lantai 1', 'Di Gedung A, Lantai 1', 'Di Lantai 2', 'Mohon masukkan pesan dengan benar', 'Di Gedung A, Lantai 1']\n",
            "** possible answers and history old answers ['Di Gedung A, Lantai 1', 'Lantai 1 Gedung A'] ['Lantai 1 Gedung A', 'Di Gedung A, Lantai 1', 'Lantai 1 Gedung A', 'Di Gedung A Lantai 2', 'Di Gedung Fatmawati Lantai 1', 'Lantai 1 Gedung A', 'mohom Ketikan pesan dengan benar', 'Lantai 1 Gedung A', 'mohom Ketikan pesan dengan benar', 'Lantai 1 Gedung C', 'Mohon masukkan pesan dengan benar', 'mohom Ketikan pesan dengan benar', 'Lantai 1 Gedung A', 'Di Gedung A Lantai 1', 'Di Gedung A, Lantai 1', 'Di Lantai 2', 'Mohon masukkan pesan dengan benar', 'Di Gedung A, Lantai 1']\n",
            "[]  unused answers\n",
            "['Di Gedung A, Lantai 1'] last five answers\n"
          ]
        },
        {
          "metadata": {
            "tags": null
          },
          "name": "stderr",
          "output_type": "stream",
          "text": [
            "INFO:werkzeug:127.0.0.1 - - [28/Nov/2022 04:12:19] \"\u001b[37mGET /get?msg=daftar HTTP/1.1\u001b[0m\" 200 -\n",
            "INFO:werkzeug:127.0.0.1 - - [28/Nov/2022 04:12:22] \"\u001b[37mGET /chat HTTP/1.1\u001b[0m\" 200 -\n",
            "INFO:werkzeug:127.0.0.1 - - [28/Nov/2022 04:12:23] \"\u001b[37mGET /static/style.css HTTP/1.1\u001b[0m\" 200 -\n",
            "INFO:werkzeug:127.0.0.1 - - [28/Nov/2022 04:12:23] \"\u001b[33mGET /Logo/logo.jpeg HTTP/1.1\u001b[0m\" 404 -\n"
          ]
        },
        {
          "metadata": {
            "tags": null
          },
          "name": "stdout",
          "output_type": "stream",
          "text": [
            "get is called\n",
            "1/1 [==============================] - 0s 21ms/step\n"
          ]
        },
        {
          "metadata": {
            "tags": null
          },
          "name": "stderr",
          "output_type": "stream",
          "text": [
            "INFO:werkzeug:127.0.0.1 - - [28/Nov/2022 04:12:43] \"\u001b[37mGET /get?msg=dimana%20administrasi%20pendaftaran HTTP/1.1\u001b[0m\" 200 -\n"
          ]
        },
        {
          "metadata": {
            "tags": null
          },
          "name": "stdout",
          "output_type": "stream",
          "text": [
            "['Di Gedung A, Lantai 1', 'Lantai 1 Gedung A', 'Di Gedung A, Lantai 1', 'Lantai 1 Gedung A', 'Di Gedung A Lantai 2', 'Di Gedung Fatmawati Lantai 1', 'Lantai 1 Gedung A', 'mohom Ketikan pesan dengan benar', 'Lantai 1 Gedung A', 'mohom Ketikan pesan dengan benar', 'Lantai 1 Gedung C', 'Mohon masukkan pesan dengan benar', 'mohom Ketikan pesan dengan benar', 'Lantai 1 Gedung A', 'Di Gedung A Lantai 1', 'Di Gedung A, Lantai 1', 'Di Lantai 2', 'Mohon masukkan pesan dengan benar', 'Di Gedung A, Lantai 1', 'Lantai 1 Gedung A']\n",
            "** possible answers and history old answers ['Di Gedung A, Lantai 1', 'Lantai 1 Gedung A'] ['Di Gedung A, Lantai 1', 'Lantai 1 Gedung A', 'Di Gedung A Lantai 2', 'Di Gedung Fatmawati Lantai 1', 'Lantai 1 Gedung A', 'mohom Ketikan pesan dengan benar', 'Lantai 1 Gedung A', 'mohom Ketikan pesan dengan benar', 'Lantai 1 Gedung C', 'Mohon masukkan pesan dengan benar', 'mohom Ketikan pesan dengan benar', 'Lantai 1 Gedung A', 'Di Gedung A Lantai 1', 'Di Gedung A, Lantai 1', 'Di Lantai 2', 'Mohon masukkan pesan dengan benar', 'Di Gedung A, Lantai 1', 'Lantai 1 Gedung A']\n",
            "[]  unused answers\n",
            "['Lantai 1 Gedung A'] last five answers\n",
            "get is called\n",
            "1/1 [==============================] - 0s 20ms/step\n"
          ]
        },
        {
          "metadata": {
            "tags": null
          },
          "name": "stderr",
          "output_type": "stream",
          "text": [
            "[2022-11-28 04:12:52,875] ERROR in app: Exception on /get [GET]\n",
            "Traceback (most recent call last):\n",
            "  File \"/usr/local/lib/python3.7/dist-packages/flask/app.py\", line 1982, in wsgi_app\n",
            "    response = self.full_dispatch_request()\n",
            "  File \"/usr/local/lib/python3.7/dist-packages/flask/app.py\", line 1614, in full_dispatch_request\n",
            "    rv = self.handle_user_exception(e)\n",
            "  File \"/usr/local/lib/python3.7/dist-packages/flask/app.py\", line 1517, in handle_user_exception\n",
            "    reraise(exc_type, exc_value, tb)\n",
            "  File \"/usr/local/lib/python3.7/dist-packages/flask/_compat.py\", line 33, in reraise\n",
            "    raise value\n",
            "  File \"/usr/local/lib/python3.7/dist-packages/flask/app.py\", line 1612, in full_dispatch_request\n",
            "    rv = self.dispatch_request()\n",
            "  File \"/usr/local/lib/python3.7/dist-packages/flask/app.py\", line 1598, in dispatch_request\n",
            "    return self.view_functions[rule.endpoint](**req.view_args)\n",
            "  File \"<ipython-input-14-9756fb4f4f5d>\", line 170, in get_bot_response\n",
            "    res,tag = chatbot_response(userText)\n",
            "  File \"<ipython-input-14-9756fb4f4f5d>\", line 130, in chatbot_response\n",
            "    res,tag = getResponse(ints, intents)\n",
            "  File \"<ipython-input-14-9756fb4f4f5d>\", line 104, in getResponse\n",
            "    tag = ints[0]['intent']\n",
            "IndexError: list index out of range\n",
            "INFO:werkzeug:127.0.0.1 - - [28/Nov/2022 04:12:52] \"\u001b[35m\u001b[1mGET /get?msg=dimana%20ruang%20persalinan HTTP/1.1\u001b[0m\" 500 -\n"
          ]
        },
        {
          "metadata": {
            "tags": null
          },
          "name": "stdout",
          "output_type": "stream",
          "text": [
            "['Lantai 1 Gedung A', 'Di Gedung A, Lantai 1', 'Lantai 1 Gedung A', 'Di Gedung A Lantai 2', 'Di Gedung Fatmawati Lantai 1', 'Lantai 1 Gedung A', 'mohom Ketikan pesan dengan benar', 'Lantai 1 Gedung A', 'mohom Ketikan pesan dengan benar', 'Lantai 1 Gedung C', 'Mohon masukkan pesan dengan benar', 'mohom Ketikan pesan dengan benar', 'Lantai 1 Gedung A', 'Di Gedung A Lantai 1', 'Di Gedung A, Lantai 1', 'Di Lantai 2', 'Mohon masukkan pesan dengan benar', 'Di Gedung A, Lantai 1', 'Lantai 1 Gedung A', 'Di Gedung A, Lantai 1']\n"
          ]
        },
        {
          "metadata": {
            "tags": null
          },
          "name": "stderr",
          "output_type": "stream",
          "text": [
            "INFO:werkzeug:127.0.0.1 - - [28/Nov/2022 04:13:16] \"\u001b[37mGET /chat HTTP/1.1\u001b[0m\" 200 -\n",
            "INFO:werkzeug:127.0.0.1 - - [28/Nov/2022 04:13:16] \"\u001b[33mGET /Logo/logo.jpeg HTTP/1.1\u001b[0m\" 404 -\n"
          ]
        },
        {
          "metadata": {
            "tags": null
          },
          "name": "stdout",
          "output_type": "stream",
          "text": [
            "get is called\n",
            "1/1 [==============================] - 0s 17ms/step\n"
          ]
        },
        {
          "metadata": {
            "tags": null
          },
          "name": "stderr",
          "output_type": "stream",
          "text": [
            "[2022-11-28 04:13:27,963] ERROR in app: Exception on /get [GET]\n",
            "Traceback (most recent call last):\n",
            "  File \"/usr/local/lib/python3.7/dist-packages/flask/app.py\", line 1982, in wsgi_app\n",
            "    response = self.full_dispatch_request()\n",
            "  File \"/usr/local/lib/python3.7/dist-packages/flask/app.py\", line 1614, in full_dispatch_request\n",
            "    rv = self.handle_user_exception(e)\n",
            "  File \"/usr/local/lib/python3.7/dist-packages/flask/app.py\", line 1517, in handle_user_exception\n",
            "    reraise(exc_type, exc_value, tb)\n",
            "  File \"/usr/local/lib/python3.7/dist-packages/flask/_compat.py\", line 33, in reraise\n",
            "    raise value\n",
            "  File \"/usr/local/lib/python3.7/dist-packages/flask/app.py\", line 1612, in full_dispatch_request\n",
            "    rv = self.dispatch_request()\n",
            "  File \"/usr/local/lib/python3.7/dist-packages/flask/app.py\", line 1598, in dispatch_request\n",
            "    return self.view_functions[rule.endpoint](**req.view_args)\n",
            "  File \"<ipython-input-14-9756fb4f4f5d>\", line 170, in get_bot_response\n",
            "    res,tag = chatbot_response(userText)\n",
            "  File \"<ipython-input-14-9756fb4f4f5d>\", line 130, in chatbot_response\n",
            "    res,tag = getResponse(ints, intents)\n",
            "  File \"<ipython-input-14-9756fb4f4f5d>\", line 104, in getResponse\n",
            "    tag = ints[0]['intent']\n",
            "IndexError: list index out of range\n",
            "INFO:werkzeug:127.0.0.1 - - [28/Nov/2022 04:13:27] \"\u001b[35m\u001b[1mGET /get?msg=dimana%20ruang%20persalinan HTTP/1.1\u001b[0m\" 500 -\n"
          ]
        },
        {
          "metadata": {
            "tags": null
          },
          "name": "stdout",
          "output_type": "stream",
          "text": [
            "['Lantai 1 Gedung A', 'Di Gedung A, Lantai 1', 'Lantai 1 Gedung A', 'Di Gedung A Lantai 2', 'Di Gedung Fatmawati Lantai 1', 'Lantai 1 Gedung A', 'mohom Ketikan pesan dengan benar', 'Lantai 1 Gedung A', 'mohom Ketikan pesan dengan benar', 'Lantai 1 Gedung C', 'Mohon masukkan pesan dengan benar', 'mohom Ketikan pesan dengan benar', 'Lantai 1 Gedung A', 'Di Gedung A Lantai 1', 'Di Gedung A, Lantai 1', 'Di Lantai 2', 'Mohon masukkan pesan dengan benar', 'Di Gedung A, Lantai 1', 'Lantai 1 Gedung A', 'Di Gedung A, Lantai 1']\n",
            "get is called\n",
            "1/1 [==============================] - 0s 21ms/step\n"
          ]
        },
        {
          "metadata": {
            "tags": null
          },
          "name": "stderr",
          "output_type": "stream",
          "text": [
            "INFO:werkzeug:127.0.0.1 - - [28/Nov/2022 04:13:41] \"\u001b[37mGET /get?msg=persalinan HTTP/1.1\u001b[0m\" 200 -\n"
          ]
        },
        {
          "metadata": {
            "tags": null
          },
          "name": "stdout",
          "output_type": "stream",
          "text": [
            "['Lantai 1 Gedung A', 'Di Gedung A, Lantai 1', 'Lantai 1 Gedung A', 'Di Gedung A Lantai 2', 'Di Gedung Fatmawati Lantai 1', 'Lantai 1 Gedung A', 'mohom Ketikan pesan dengan benar', 'Lantai 1 Gedung A', 'mohom Ketikan pesan dengan benar', 'Lantai 1 Gedung C', 'Mohon masukkan pesan dengan benar', 'mohom Ketikan pesan dengan benar', 'Lantai 1 Gedung A', 'Di Gedung A Lantai 1', 'Di Gedung A, Lantai 1', 'Di Lantai 2', 'Mohon masukkan pesan dengan benar', 'Di Gedung A, Lantai 1', 'Lantai 1 Gedung A', 'Di Gedung A, Lantai 1']\n",
            "** possible answers and history old answers ['Mohon masukkan pesan dengan benar', 'mohom Ketikan pesan dengan benar'] ['Lantai 1 Gedung A', 'Di Gedung A Lantai 2', 'Di Gedung Fatmawati Lantai 1', 'Lantai 1 Gedung A', 'mohom Ketikan pesan dengan benar', 'Lantai 1 Gedung A', 'mohom Ketikan pesan dengan benar', 'Lantai 1 Gedung C', 'Mohon masukkan pesan dengan benar', 'mohom Ketikan pesan dengan benar', 'Lantai 1 Gedung A', 'Di Gedung A Lantai 1', 'Di Gedung A, Lantai 1', 'Di Lantai 2', 'Mohon masukkan pesan dengan benar', 'Di Gedung A, Lantai 1', 'Lantai 1 Gedung A', 'Di Gedung A, Lantai 1']\n",
            "[]  unused answers\n",
            "['Di Gedung A, Lantai 1'] last five answers\n",
            "get is called\n",
            "1/1 [==============================] - 0s 19ms/step\n"
          ]
        },
        {
          "metadata": {
            "tags": null
          },
          "name": "stderr",
          "output_type": "stream",
          "text": [
            "INFO:werkzeug:127.0.0.1 - - [28/Nov/2022 04:14:13] \"\u001b[37mGET /get?msg=dimana%20gedung%20a HTTP/1.1\u001b[0m\" 200 -\n"
          ]
        },
        {
          "metadata": {
            "tags": null
          },
          "name": "stdout",
          "output_type": "stream",
          "text": [
            "['Di Gedung A, Lantai 1', 'Lantai 1 Gedung A', 'Di Gedung A Lantai 2', 'Di Gedung Fatmawati Lantai 1', 'Lantai 1 Gedung A', 'mohom Ketikan pesan dengan benar', 'Lantai 1 Gedung A', 'mohom Ketikan pesan dengan benar', 'Lantai 1 Gedung C', 'Mohon masukkan pesan dengan benar', 'mohom Ketikan pesan dengan benar', 'Lantai 1 Gedung A', 'Di Gedung A Lantai 1', 'Di Gedung A, Lantai 1', 'Di Lantai 2', 'Mohon masukkan pesan dengan benar', 'Di Gedung A, Lantai 1', 'Lantai 1 Gedung A', 'Di Gedung A, Lantai 1', 'Mohon masukkan pesan dengan benar']\n",
            "** possible answers and history old answers ['Di Gedung A Lantai 2', 'Lantai 2 Gedung A'] ['Di Gedung A Lantai 2', 'Di Gedung Fatmawati Lantai 1', 'Lantai 1 Gedung A', 'mohom Ketikan pesan dengan benar', 'Lantai 1 Gedung A', 'mohom Ketikan pesan dengan benar', 'Lantai 1 Gedung C', 'Mohon masukkan pesan dengan benar', 'mohom Ketikan pesan dengan benar', 'Lantai 1 Gedung A', 'Di Gedung A Lantai 1', 'Di Gedung A, Lantai 1', 'Di Lantai 2', 'Mohon masukkan pesan dengan benar', 'Di Gedung A, Lantai 1', 'Lantai 1 Gedung A', 'Di Gedung A, Lantai 1', 'Mohon masukkan pesan dengan benar']\n",
            "['Lantai 2 Gedung A']  unused answers\n",
            "['Mohon masukkan pesan dengan benar'] last five answers\n",
            "get is called\n",
            "1/1 [==============================] - 0s 18ms/step\n"
          ]
        },
        {
          "metadata": {
            "tags": null
          },
          "name": "stderr",
          "output_type": "stream",
          "text": [
            "INFO:werkzeug:127.0.0.1 - - [28/Nov/2022 04:14:29] \"\u001b[37mGET /get?msg=dimana%20ruang%20mawar HTTP/1.1\u001b[0m\" 200 -\n"
          ]
        },
        {
          "metadata": {
            "tags": null
          },
          "name": "stdout",
          "output_type": "stream",
          "text": [
            "['Lantai 1 Gedung A', 'Di Gedung A Lantai 2', 'Di Gedung Fatmawati Lantai 1', 'Lantai 1 Gedung A', 'mohom Ketikan pesan dengan benar', 'Lantai 1 Gedung A', 'mohom Ketikan pesan dengan benar', 'Lantai 1 Gedung C', 'Mohon masukkan pesan dengan benar', 'mohom Ketikan pesan dengan benar', 'Lantai 1 Gedung A', 'Di Gedung A Lantai 1', 'Di Gedung A, Lantai 1', 'Di Lantai 2', 'Mohon masukkan pesan dengan benar', 'Di Gedung A, Lantai 1', 'Lantai 1 Gedung A', 'Di Gedung A, Lantai 1', 'Mohon masukkan pesan dengan benar', 'Di Gedung A Lantai 2']\n",
            "** possible answers and history old answers [' Di Gedung C Lantai 1', 'Lantai 1 Gedung C'] ['Di Gedung Fatmawati Lantai 1', 'Lantai 1 Gedung A', 'mohom Ketikan pesan dengan benar', 'Lantai 1 Gedung A', 'mohom Ketikan pesan dengan benar', 'Lantai 1 Gedung C', 'Mohon masukkan pesan dengan benar', 'mohom Ketikan pesan dengan benar', 'Lantai 1 Gedung A', 'Di Gedung A Lantai 1', 'Di Gedung A, Lantai 1', 'Di Lantai 2', 'Mohon masukkan pesan dengan benar', 'Di Gedung A, Lantai 1', 'Lantai 1 Gedung A', 'Di Gedung A, Lantai 1', 'Mohon masukkan pesan dengan benar', 'Di Gedung A Lantai 2']\n",
            "[' Di Gedung C Lantai 1']  unused answers\n",
            "['Di Gedung A Lantai 2'] last five answers\n",
            "get is called\n",
            "1/1 [==============================] - 0s 21ms/step\n"
          ]
        },
        {
          "metadata": {
            "tags": null
          },
          "name": "stderr",
          "output_type": "stream",
          "text": [
            "INFO:werkzeug:127.0.0.1 - - [28/Nov/2022 04:17:41] \"\u001b[37mGET /get?msg=dimana%20gedung%20b HTTP/1.1\u001b[0m\" 200 -\n"
          ]
        },
        {
          "metadata": {
            "tags": null
          },
          "name": "stdout",
          "output_type": "stream",
          "text": [
            "['Di Gedung A Lantai 2', 'Di Gedung Fatmawati Lantai 1', 'Lantai 1 Gedung A', 'mohom Ketikan pesan dengan benar', 'Lantai 1 Gedung A', 'mohom Ketikan pesan dengan benar', 'Lantai 1 Gedung C', 'Mohon masukkan pesan dengan benar', 'mohom Ketikan pesan dengan benar', 'Lantai 1 Gedung A', 'Di Gedung A Lantai 1', 'Di Gedung A, Lantai 1', 'Di Lantai 2', 'Mohon masukkan pesan dengan benar', 'Di Gedung A, Lantai 1', 'Lantai 1 Gedung A', 'Di Gedung A, Lantai 1', 'Mohon masukkan pesan dengan benar', 'Di Gedung A Lantai 2', 'Di Gedung C Lantai 1']\n",
            "** possible answers and history old answers ['Di Gedung A Lantai 2', 'Lantai 2 Gedung A'] ['Lantai 1 Gedung A', 'mohom Ketikan pesan dengan benar', 'Lantai 1 Gedung A', 'mohom Ketikan pesan dengan benar', 'Lantai 1 Gedung C', 'Mohon masukkan pesan dengan benar', 'mohom Ketikan pesan dengan benar', 'Lantai 1 Gedung A', 'Di Gedung A Lantai 1', 'Di Gedung A, Lantai 1', 'Di Lantai 2', 'Mohon masukkan pesan dengan benar', 'Di Gedung A, Lantai 1', 'Lantai 1 Gedung A', 'Di Gedung A, Lantai 1', 'Mohon masukkan pesan dengan benar', 'Di Gedung A Lantai 2', 'Di Gedung C Lantai 1']\n",
            "['Lantai 2 Gedung A']  unused answers\n",
            "['Di Gedung C Lantai 1'] last five answers\n",
            "get is called\n",
            "1/1 [==============================] - 0s 20ms/step\n"
          ]
        },
        {
          "metadata": {
            "tags": null
          },
          "name": "stderr",
          "output_type": "stream",
          "text": [
            "INFO:werkzeug:127.0.0.1 - - [28/Nov/2022 04:17:53] \"\u001b[37mGET /get?msg=halo HTTP/1.1\u001b[0m\" 200 -\n"
          ]
        },
        {
          "metadata": {
            "tags": null
          },
          "name": "stdout",
          "output_type": "stream",
          "text": [
            "['Di Gedung Fatmawati Lantai 1', 'Lantai 1 Gedung A', 'mohom Ketikan pesan dengan benar', 'Lantai 1 Gedung A', 'mohom Ketikan pesan dengan benar', 'Lantai 1 Gedung C', 'Mohon masukkan pesan dengan benar', 'mohom Ketikan pesan dengan benar', 'Lantai 1 Gedung A', 'Di Gedung A Lantai 1', 'Di Gedung A, Lantai 1', 'Di Lantai 2', 'Mohon masukkan pesan dengan benar', 'Di Gedung A, Lantai 1', 'Lantai 1 Gedung A', 'Di Gedung A, Lantai 1', 'Mohon masukkan pesan dengan benar', 'Di Gedung A Lantai 2', 'Di Gedung C Lantai 1', 'Di Gedung A Lantai 2']\n",
            "** possible answers and history old answers ['Mohon masukkan pesan dengan benar', 'mohom Ketikan pesan dengan benar'] ['mohom Ketikan pesan dengan benar', 'Lantai 1 Gedung A', 'mohom Ketikan pesan dengan benar', 'Lantai 1 Gedung C', 'Mohon masukkan pesan dengan benar', 'mohom Ketikan pesan dengan benar', 'Lantai 1 Gedung A', 'Di Gedung A Lantai 1', 'Di Gedung A, Lantai 1', 'Di Lantai 2', 'Mohon masukkan pesan dengan benar', 'Di Gedung A, Lantai 1', 'Lantai 1 Gedung A', 'Di Gedung A, Lantai 1', 'Mohon masukkan pesan dengan benar', 'Di Gedung A Lantai 2', 'Di Gedung C Lantai 1', 'Di Gedung A Lantai 2']\n",
            "[]  unused answers\n",
            "['Di Gedung A Lantai 2'] last five answers\n"
          ]
        }
      ],
      "source": [
        "from flask import Flask, render_template, request\n",
        "\n",
        "from flask_ngrok import run_with_ngrok\n",
        "\n",
        "\n",
        "import nltk\n",
        "from nltk.stem import WordNetLemmatizer\n",
        "lemmatizer = WordNetLemmatizer()\n",
        "import pickle\n",
        "import numpy as np\n",
        "\n",
        "from keras.models import load_model\n",
        "model = load_model('/content/drive/MyDrive/Colab Notebooks/Chatbot/model h5/chatbot_model.h5')\n",
        "import json\n",
        "import random\n",
        "import time\n",
        "\n",
        "## end keras chat brain\n",
        "\n",
        "## vars\n",
        "now = time.time()# float\n",
        "\n",
        "filename = str(now)+\"_chatlog.txt\" #create chatlog\n",
        "\n",
        "intents = json.loads(open('intents.json').read())\n",
        "words = pickle.load(open('words.pkl','rb'))\n",
        "classes = pickle.load(open('classes.pkl','rb'))\n",
        "    \n",
        "## end vars\n",
        "\n",
        "class Storage:\n",
        "    old_answers=[] #storage for answers\n",
        "    \n",
        "    @classmethod\n",
        "    def save_storage(cls):\n",
        "        with open (\"storage.txt\", \"w\") as myfile:\n",
        "            for answer in Storage.old_answers:\n",
        "                \n",
        "                myfile.write(answer+\"\\n\")\n",
        "\n",
        "    @classmethod\n",
        "    def load_storage(cls):\n",
        "        Storage.old_answers=[]\n",
        "        with open ('storage.txt', 'r') as myfile:\n",
        "            lines = myfile.readlines()\n",
        "            for line in lines:\n",
        "                Storage.old_answers.append(line.strip())\n",
        "        print (Storage.old_answers)\n",
        "\n",
        "\n",
        "app = Flask(__name__)\n",
        "run_with_ngrok(app) \n",
        "\n",
        "def bot_response(userText):\n",
        "\n",
        "    '''fake brain'''\n",
        "    print (\"your q was: \" + userText)\n",
        "    return \"your q was: \" + userText\n",
        "   \n",
        "## new funcs\n",
        "def clean_up_sentence(sentence):\n",
        "    \"\"\"tokenizes the sentences\"\"\"\n",
        "    sentence_words = nltk.word_tokenize(sentence)\n",
        "    sentence_words = [lemmatizer.lemmatize(word.lower()) for word in sentence_words]\n",
        "    return sentence_words\n",
        "\n",
        "# return bag of words array: 0 or 1 for each word in the bag that exists in the sentence\n",
        "\n",
        "def bow(sentence, words, show_details=True):\n",
        "    # tokenize the pattern\n",
        "    sentence_words = clean_up_sentence(sentence)\n",
        "    # bag of words - matrix of N words, vocabulary matrix\n",
        "    bag = [0]*len(words)\n",
        "    for s in sentence_words:\n",
        "        for i,w in enumerate(words):\n",
        "            if w == s:\n",
        "                # assign 1 if current word is in the vocabulary position\n",
        "                bag[i] = 1\n",
        "                if show_details:\n",
        "                    print (\"found in bag: %s\" % w)\n",
        "    return(np.array(bag))\n",
        "\n",
        "def predict_class(sentence, model):\n",
        "    # filter out predictions below a threshold\n",
        "    p = bow(sentence, words,show_details=False)\n",
        "    res = model.predict(np.array([p]))[0]\n",
        "    ERROR_THRESHOLD = 0.25\n",
        "    results = [[i,r] for i,r in enumerate(res) if r>ERROR_THRESHOLD]\n",
        "    # sort by strength of probability\n",
        "    results.sort(key=lambda x: x[1], reverse=True)\n",
        "    return_list = []\n",
        "    for r in results:\n",
        "        return_list.append({\"intent\": classes[r[0]], \"probability\": str(r[1])})\n",
        "    return return_list\n",
        "\n",
        "def getResponse(ints, intents_json):\n",
        "    '''read in the intents file'''\n",
        "    #pseudo code\n",
        "    #assume old answers are inside\n",
        "    # old_answers = ['response1','response2']\n",
        "\n",
        "    #load old answers into storage\n",
        "    Storage.load_storage()\n",
        "    tag = ints[0]['intent']\n",
        "    list_of_intents = intents_json['intents']\n",
        "    old_answers = Storage.old_answers  # [:-len(list_of_intents)]\n",
        "    possible_responses = [i['responses'] for i in list_of_intents if i['tag']== tag ][0]\n",
        "    history = Storage.old_answers[-len('possible_responses'):]\n",
        "    print(\"** possible answers and history old answers\",possible_responses,history)\n",
        "    unused_answers = [answer for answer in possible_responses if answer not in history ] # list comprehension\n",
        "    print(unused_answers, \" unused answers\")\n",
        "    unused_two = history[-(len(possible_responses)-1):]\n",
        "    print(unused_two,'last five answers')\n",
        "    try:\n",
        "        result = random.choice([answer for answer in possible_responses if answer not in unused_two ])\n",
        "    except IndexError:\n",
        "        print(\"I'm out of options, I will choose random.\")\n",
        "        result = random.choice(possible_responses)\n",
        "\n",
        "    Storage.old_answers.append(result) \n",
        "    Storage.old_answers= Storage.old_answers[-20:] \n",
        "    Storage.save_storage()\n",
        "\n",
        "  \n",
        "    return result,tag\n",
        "\n",
        "def chatbot_response(msg):\n",
        "    '''this func is important'''\n",
        "    ints = predict_class(msg, model)\n",
        "    res,tag = getResponse(ints, intents)\n",
        "    return res,tag\n",
        "\n",
        "\n",
        "def send():\n",
        "    msg = EntryBox.get(\"1.0\",'end-1c').strip()\n",
        "    EntryBox.delete(\"0.0\",END)\n",
        "\n",
        "    if msg != '':\n",
        "        ChatLog.config(state=NORMAL)\n",
        "        ChatLog.insert(END, \"You: \" + msg + '\\n\\n')\n",
        "        ChatLog.config(foreground=\"#442265\", font=(\"Verdana\", 12 ))\n",
        "\n",
        "        res = chatbot_response(msg)\n",
        "        ChatLog.insert(END, \"Bot: \" + res + '\\n\\n')\n",
        "\n",
        "        ChatLog.config(state=DISABLED)\n",
        "        ChatLog.yview(END)\n",
        "        #append to log file\n",
        "        with open(filename,'a') as myfile:\n",
        "            myfile.write(\"user: \"+ msg + \"\\n\")\n",
        "            myfile.write(\"bot: \"+ res + \"\\n\")\n",
        "\n",
        "## end new funcs\n",
        "\n",
        "@app.route('/')\n",
        "def home():\n",
        "    return render_template('home.html')\n",
        "\n",
        "#\n",
        "@app.route('/chat')\n",
        "def chat():\n",
        "    return render_template('chat.html')\n",
        "\n",
        "@app.route(\"/get\")\n",
        "def get_bot_response():    \n",
        "    print (\"get is called\")\n",
        "    userText = request.args.get('msg')    \n",
        "    # return str(bot.get_response(userText)) \n",
        "    # return bot_response(userText)\n",
        "    res,tag = chatbot_response(userText)\n",
        "    with open( \"/content/drive/MyDrive/Colab Notebooks/Chatbot/logfile.csv\", \"a\" ) as logfile:\n",
        "        logfile.write(str(now)+\",\"+userText+\",\"+res+\",\"+tag+\",\"+\"\\n\")\n",
        "        \n",
        "\n",
        "    return res + '<p style=\"font-size:8pt;\">tag: ' + tag + '</p>'\n",
        "    \n",
        "\n",
        "\n",
        "\n",
        "if __name__ == '__main__':\n",
        "  app.run()\n",
        "#    app.run(debug=True)"
      ]
    }
  ],
  "metadata": {
    "colab": {
      "provenance": [],
      "include_colab_link": true
    },
    "kernelspec": {
      "display_name": "Python 3",
      "name": "python3"
    },
    "language_info": {
      "name": "python"
    }
  },
  "nbformat": 4,
  "nbformat_minor": 0
}